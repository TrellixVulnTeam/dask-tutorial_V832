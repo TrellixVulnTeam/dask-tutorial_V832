{
 "cells": [
  {
   "cell_type": "markdown",
   "metadata": {},
   "source": [
    "<img src=\"images/dask_horizontal.svg\" align=\"right\" width=\"30%\">"
   ]
  },
  {
   "cell_type": "markdown",
   "metadata": {},
   "source": [
    "# Bag: Parallel Lists for semi-structured data"
   ]
  },
  {
   "cell_type": "markdown",
   "metadata": {},
   "source": [
    "Dask-bag excels in processing data that can be represented as a sequence of arbitrary inputs. We'll refer to this as \"messy\" data, because it can contain complex nested structures, missing fields, mixtures of data types, etc. The *functional* programming style fits very nicely with standard Python iteration, such as can be found in the `itertools` module.\n",
    "\n",
    "Messy data is often encountered at the beginning of data processing pipelines when large volumes of raw data are first consumed. The initial set of data might be JSON, CSV, XML, or any other format that does not enforce strict structure and datatypes.\n",
    "For this reason, the initial data massaging and processing is often done with Python `list`s, `dict`s, and `set`s.\n",
    "\n",
    "These core data structures are optimized for general-purpose storage and processing.  Adding streaming computation with iterators/generator expressions or libraries like `itertools` or [`toolz`](https://toolz.readthedocs.io/en/latest/) let us process large volumes in a small space.  If we combine this with parallel processing then we can churn through a fair amount of data.\n",
    "\n",
    "Dask.bag is a high level Dask collection to automate common workloads of this form.  In a nutshell\n",
    "\n",
    "    dask.bag = map, filter, toolz + parallel execution\n",
    "    \n",
    "**Related Documentation**\n",
    "\n",
    "*  [Bag Documenation](http://dask.pydata.org/en/latest/bag.html)\n",
    "*  [Bag API](http://dask.pydata.org/en/latest/bag-api.html)"
   ]
  },
  {
   "cell_type": "markdown",
   "metadata": {},
   "source": [
    "## Creation"
   ]
  },
  {
   "cell_type": "markdown",
   "metadata": {},
   "source": [
    "You can create a `Bag` from a Python sequence, from files, from data on S3, etc.\n",
    "We demonstrate using `.take()` to show elements of the data. (Doing `.take(1)` results in a tuple with one element)\n",
    "\n",
    "Note that the data are partitioned into blocks, and there are many items per block. In the first example, the two partitions contain five elements each, and in the following two, each file is partitioned into one or more bytes blocks."
   ]
  },
  {
   "cell_type": "code",
   "execution_count": 1,
   "metadata": {},
   "outputs": [
    {
     "data": {
      "text/plain": [
       "(1, 2, 3)"
      ]
     },
     "execution_count": 1,
     "metadata": {},
     "output_type": "execute_result"
    }
   ],
   "source": [
    "# each element is an integer\n",
    "import dask.bag as db\n",
    "b = db.from_sequence([1, 2, 3, 4, 5, 6, 7, 8, 9, 10], npartitions=2)\n",
    "b.take(3)"
   ]
  },
  {
   "cell_type": "code",
   "execution_count": 2,
   "metadata": {},
   "outputs": [
    {
     "data": {
      "text/plain": [
       "('{\"id\": 0, \"name\": \"Xavier\", \"transactions\": [{\"transaction-id\": 10963, \"amount\": 9559}, {\"transaction-id\": 12412, \"amount\": 9104}, {\"transaction-id\": 14088, \"amount\": 9265}, {\"transaction-id\": 14320, \"amount\": 10200}, {\"transaction-id\": 15154, \"amount\": 9833}, {\"transaction-id\": 19987, \"amount\": 9615}, {\"transaction-id\": 20285, \"amount\": 9945}, {\"transaction-id\": 22727, \"amount\": 9276}, {\"transaction-id\": 29679, \"amount\": 9386}, {\"transaction-id\": 32263, \"amount\": 9215}, {\"transaction-id\": 40963, \"amount\": 9631}, {\"transaction-id\": 45759, \"amount\": 9618}, {\"transaction-id\": 53930, \"amount\": 9140}, {\"transaction-id\": 54775, \"amount\": 9205}, {\"transaction-id\": 58636, \"amount\": 9374}, {\"transaction-id\": 60618, \"amount\": 9477}, {\"transaction-id\": 61700, \"amount\": 9568}, {\"transaction-id\": 62516, \"amount\": 9397}, {\"transaction-id\": 64376, \"amount\": 9321}, {\"transaction-id\": 66431, \"amount\": 9187}, {\"transaction-id\": 70596, \"amount\": 9453}, {\"transaction-id\": 73026, \"amount\": 8913}, {\"transaction-id\": 74652, \"amount\": 9108}, {\"transaction-id\": 80302, \"amount\": 9436}, {\"transaction-id\": 82312, \"amount\": 9691}, {\"transaction-id\": 89175, \"amount\": 9909}, {\"transaction-id\": 92646, \"amount\": 9308}, {\"transaction-id\": 96787, \"amount\": 10252}, {\"transaction-id\": 98665, \"amount\": 9538}]}\\n',)"
      ]
     },
     "execution_count": 2,
     "metadata": {},
     "output_type": "execute_result"
    }
   ],
   "source": [
    "# each element is a text file, where each line is a JSON object\n",
    "# note that the compression is handles automatically\n",
    "import os\n",
    "b = db.read_text(os.path.join('data', 'accounts.*.json.gz'))\n",
    "b.take(1)"
   ]
  },
  {
   "cell_type": "code",
   "execution_count": 7,
   "metadata": {},
   "outputs": [
    {
     "ename": "NoCredentialsError",
     "evalue": "Unable to locate credentials",
     "output_type": "error",
     "traceback": [
      "\u001b[1;31m---------------------------------------------------------------------------\u001b[0m",
      "\u001b[1;31mNoCredentialsError\u001b[0m                        Traceback (most recent call last)",
      "\u001b[1;32m<ipython-input-7-f250b1423dc0>\u001b[0m in \u001b[0;36m<module>\u001b[1;34m\u001b[0m\n\u001b[0;32m      2\u001b[0m \u001b[1;31m# each partition is a remote CSV text file\u001b[0m\u001b[1;33m\u001b[0m\u001b[1;33m\u001b[0m\u001b[1;33m\u001b[0m\u001b[0m\n\u001b[0;32m      3\u001b[0m \u001b[0mb\u001b[0m \u001b[1;33m=\u001b[0m \u001b[0mdb\u001b[0m\u001b[1;33m.\u001b[0m\u001b[0mread_text\u001b[0m\u001b[1;33m(\u001b[0m\u001b[1;34m's3://dask-data/nyc-taxi/2015/yellow_tripdata_2015-01.csv'\u001b[0m\u001b[1;33m)\u001b[0m\u001b[1;33m\u001b[0m\u001b[1;33m\u001b[0m\u001b[0m\n\u001b[1;32m----> 4\u001b[1;33m \u001b[0mb\u001b[0m\u001b[1;33m.\u001b[0m\u001b[0mtake\u001b[0m\u001b[1;33m(\u001b[0m\u001b[1;36m1\u001b[0m\u001b[1;33m)\u001b[0m\u001b[1;33m\u001b[0m\u001b[1;33m\u001b[0m\u001b[0m\n\u001b[0m",
      "\u001b[1;32m~\\Anaconda3\\envs\\dask-tutorial\\lib\\site-packages\\dask\\bag\\core.py\u001b[0m in \u001b[0;36mtake\u001b[1;34m(self, k, npartitions, compute, warn)\u001b[0m\n\u001b[0;32m   1208\u001b[0m \u001b[1;33m\u001b[0m\u001b[0m\n\u001b[0;32m   1209\u001b[0m         \u001b[1;32mif\u001b[0m \u001b[0mcompute\u001b[0m\u001b[1;33m:\u001b[0m\u001b[1;33m\u001b[0m\u001b[1;33m\u001b[0m\u001b[0m\n\u001b[1;32m-> 1210\u001b[1;33m             \u001b[1;32mreturn\u001b[0m \u001b[0mtuple\u001b[0m\u001b[1;33m(\u001b[0m\u001b[0mb\u001b[0m\u001b[1;33m.\u001b[0m\u001b[0mcompute\u001b[0m\u001b[1;33m(\u001b[0m\u001b[1;33m)\u001b[0m\u001b[1;33m)\u001b[0m\u001b[1;33m\u001b[0m\u001b[1;33m\u001b[0m\u001b[0m\n\u001b[0m\u001b[0;32m   1211\u001b[0m         \u001b[1;32melse\u001b[0m\u001b[1;33m:\u001b[0m\u001b[1;33m\u001b[0m\u001b[1;33m\u001b[0m\u001b[0m\n\u001b[0;32m   1212\u001b[0m             \u001b[1;32mreturn\u001b[0m \u001b[0mb\u001b[0m\u001b[1;33m\u001b[0m\u001b[1;33m\u001b[0m\u001b[0m\n",
      "\u001b[1;32m~\\Anaconda3\\envs\\dask-tutorial\\lib\\site-packages\\dask\\base.py\u001b[0m in \u001b[0;36mcompute\u001b[1;34m(self, **kwargs)\u001b[0m\n\u001b[0;32m    154\u001b[0m         \u001b[0mdask\u001b[0m\u001b[1;33m.\u001b[0m\u001b[0mbase\u001b[0m\u001b[1;33m.\u001b[0m\u001b[0mcompute\u001b[0m\u001b[1;33m\u001b[0m\u001b[1;33m\u001b[0m\u001b[0m\n\u001b[0;32m    155\u001b[0m         \"\"\"\n\u001b[1;32m--> 156\u001b[1;33m         \u001b[1;33m(\u001b[0m\u001b[0mresult\u001b[0m\u001b[1;33m,\u001b[0m\u001b[1;33m)\u001b[0m \u001b[1;33m=\u001b[0m \u001b[0mcompute\u001b[0m\u001b[1;33m(\u001b[0m\u001b[0mself\u001b[0m\u001b[1;33m,\u001b[0m \u001b[0mtraverse\u001b[0m\u001b[1;33m=\u001b[0m\u001b[1;32mFalse\u001b[0m\u001b[1;33m,\u001b[0m \u001b[1;33m**\u001b[0m\u001b[0mkwargs\u001b[0m\u001b[1;33m)\u001b[0m\u001b[1;33m\u001b[0m\u001b[1;33m\u001b[0m\u001b[0m\n\u001b[0m\u001b[0;32m    157\u001b[0m         \u001b[1;32mreturn\u001b[0m \u001b[0mresult\u001b[0m\u001b[1;33m\u001b[0m\u001b[1;33m\u001b[0m\u001b[0m\n\u001b[0;32m    158\u001b[0m \u001b[1;33m\u001b[0m\u001b[0m\n",
      "\u001b[1;32m~\\Anaconda3\\envs\\dask-tutorial\\lib\\site-packages\\dask\\base.py\u001b[0m in \u001b[0;36mcompute\u001b[1;34m(*args, **kwargs)\u001b[0m\n\u001b[0;32m    396\u001b[0m     \u001b[0mkeys\u001b[0m \u001b[1;33m=\u001b[0m \u001b[1;33m[\u001b[0m\u001b[0mx\u001b[0m\u001b[1;33m.\u001b[0m\u001b[0m__dask_keys__\u001b[0m\u001b[1;33m(\u001b[0m\u001b[1;33m)\u001b[0m \u001b[1;32mfor\u001b[0m \u001b[0mx\u001b[0m \u001b[1;32min\u001b[0m \u001b[0mcollections\u001b[0m\u001b[1;33m]\u001b[0m\u001b[1;33m\u001b[0m\u001b[1;33m\u001b[0m\u001b[0m\n\u001b[0;32m    397\u001b[0m     \u001b[0mpostcomputes\u001b[0m \u001b[1;33m=\u001b[0m \u001b[1;33m[\u001b[0m\u001b[0mx\u001b[0m\u001b[1;33m.\u001b[0m\u001b[0m__dask_postcompute__\u001b[0m\u001b[1;33m(\u001b[0m\u001b[1;33m)\u001b[0m \u001b[1;32mfor\u001b[0m \u001b[0mx\u001b[0m \u001b[1;32min\u001b[0m \u001b[0mcollections\u001b[0m\u001b[1;33m]\u001b[0m\u001b[1;33m\u001b[0m\u001b[1;33m\u001b[0m\u001b[0m\n\u001b[1;32m--> 398\u001b[1;33m     \u001b[0mresults\u001b[0m \u001b[1;33m=\u001b[0m \u001b[0mschedule\u001b[0m\u001b[1;33m(\u001b[0m\u001b[0mdsk\u001b[0m\u001b[1;33m,\u001b[0m \u001b[0mkeys\u001b[0m\u001b[1;33m,\u001b[0m \u001b[1;33m**\u001b[0m\u001b[0mkwargs\u001b[0m\u001b[1;33m)\u001b[0m\u001b[1;33m\u001b[0m\u001b[1;33m\u001b[0m\u001b[0m\n\u001b[0m\u001b[0;32m    399\u001b[0m     \u001b[1;32mreturn\u001b[0m \u001b[0mrepack\u001b[0m\u001b[1;33m(\u001b[0m\u001b[1;33m[\u001b[0m\u001b[0mf\u001b[0m\u001b[1;33m(\u001b[0m\u001b[0mr\u001b[0m\u001b[1;33m,\u001b[0m \u001b[1;33m*\u001b[0m\u001b[0ma\u001b[0m\u001b[1;33m)\u001b[0m \u001b[1;32mfor\u001b[0m \u001b[0mr\u001b[0m\u001b[1;33m,\u001b[0m \u001b[1;33m(\u001b[0m\u001b[0mf\u001b[0m\u001b[1;33m,\u001b[0m \u001b[0ma\u001b[0m\u001b[1;33m)\u001b[0m \u001b[1;32min\u001b[0m \u001b[0mzip\u001b[0m\u001b[1;33m(\u001b[0m\u001b[0mresults\u001b[0m\u001b[1;33m,\u001b[0m \u001b[0mpostcomputes\u001b[0m\u001b[1;33m)\u001b[0m\u001b[1;33m]\u001b[0m\u001b[1;33m)\u001b[0m\u001b[1;33m\u001b[0m\u001b[1;33m\u001b[0m\u001b[0m\n\u001b[0;32m    400\u001b[0m \u001b[1;33m\u001b[0m\u001b[0m\n",
      "\u001b[1;32m~\\Anaconda3\\envs\\dask-tutorial\\lib\\site-packages\\dask\\multiprocessing.py\u001b[0m in \u001b[0;36mget\u001b[1;34m(dsk, keys, num_workers, func_loads, func_dumps, optimize_graph, pool, **kwargs)\u001b[0m\n\u001b[0;32m    190\u001b[0m                            \u001b[0mget_id\u001b[0m\u001b[1;33m=\u001b[0m\u001b[0m_process_get_id\u001b[0m\u001b[1;33m,\u001b[0m \u001b[0mdumps\u001b[0m\u001b[1;33m=\u001b[0m\u001b[0mdumps\u001b[0m\u001b[1;33m,\u001b[0m \u001b[0mloads\u001b[0m\u001b[1;33m=\u001b[0m\u001b[0mloads\u001b[0m\u001b[1;33m,\u001b[0m\u001b[1;33m\u001b[0m\u001b[1;33m\u001b[0m\u001b[0m\n\u001b[0;32m    191\u001b[0m                            \u001b[0mpack_exception\u001b[0m\u001b[1;33m=\u001b[0m\u001b[0mpack_exception\u001b[0m\u001b[1;33m,\u001b[0m\u001b[1;33m\u001b[0m\u001b[1;33m\u001b[0m\u001b[0m\n\u001b[1;32m--> 192\u001b[1;33m                            raise_exception=reraise, **kwargs)\n\u001b[0m\u001b[0;32m    193\u001b[0m     \u001b[1;32mfinally\u001b[0m\u001b[1;33m:\u001b[0m\u001b[1;33m\u001b[0m\u001b[1;33m\u001b[0m\u001b[0m\n\u001b[0;32m    194\u001b[0m         \u001b[1;32mif\u001b[0m \u001b[0mcleanup\u001b[0m\u001b[1;33m:\u001b[0m\u001b[1;33m\u001b[0m\u001b[1;33m\u001b[0m\u001b[0m\n",
      "\u001b[1;32m~\\Anaconda3\\envs\\dask-tutorial\\lib\\site-packages\\dask\\local.py\u001b[0m in \u001b[0;36mget_async\u001b[1;34m(apply_async, num_workers, dsk, result, cache, get_id, rerun_exceptions_locally, pack_exception, raise_exception, callbacks, dumps, loads, **kwargs)\u001b[0m\n\u001b[0;32m    460\u001b[0m                         \u001b[0m_execute_task\u001b[0m\u001b[1;33m(\u001b[0m\u001b[0mtask\u001b[0m\u001b[1;33m,\u001b[0m \u001b[0mdata\u001b[0m\u001b[1;33m)\u001b[0m  \u001b[1;31m# Re-execute locally\u001b[0m\u001b[1;33m\u001b[0m\u001b[1;33m\u001b[0m\u001b[0m\n\u001b[0;32m    461\u001b[0m                     \u001b[1;32melse\u001b[0m\u001b[1;33m:\u001b[0m\u001b[1;33m\u001b[0m\u001b[1;33m\u001b[0m\u001b[0m\n\u001b[1;32m--> 462\u001b[1;33m                         \u001b[0mraise_exception\u001b[0m\u001b[1;33m(\u001b[0m\u001b[0mexc\u001b[0m\u001b[1;33m,\u001b[0m \u001b[0mtb\u001b[0m\u001b[1;33m)\u001b[0m\u001b[1;33m\u001b[0m\u001b[1;33m\u001b[0m\u001b[0m\n\u001b[0m\u001b[0;32m    463\u001b[0m                 \u001b[0mres\u001b[0m\u001b[1;33m,\u001b[0m \u001b[0mworker_id\u001b[0m \u001b[1;33m=\u001b[0m \u001b[0mloads\u001b[0m\u001b[1;33m(\u001b[0m\u001b[0mres_info\u001b[0m\u001b[1;33m)\u001b[0m\u001b[1;33m\u001b[0m\u001b[1;33m\u001b[0m\u001b[0m\n\u001b[0;32m    464\u001b[0m                 \u001b[0mstate\u001b[0m\u001b[1;33m[\u001b[0m\u001b[1;34m'cache'\u001b[0m\u001b[1;33m]\u001b[0m\u001b[1;33m[\u001b[0m\u001b[0mkey\u001b[0m\u001b[1;33m]\u001b[0m \u001b[1;33m=\u001b[0m \u001b[0mres\u001b[0m\u001b[1;33m\u001b[0m\u001b[1;33m\u001b[0m\u001b[0m\n",
      "\u001b[1;32m~\\Anaconda3\\envs\\dask-tutorial\\lib\\site-packages\\dask\\compatibility.py\u001b[0m in \u001b[0;36mreraise\u001b[1;34m(exc, tb)\u001b[0m\n\u001b[0;32m    109\u001b[0m     \u001b[1;32mdef\u001b[0m \u001b[0mreraise\u001b[0m\u001b[1;33m(\u001b[0m\u001b[0mexc\u001b[0m\u001b[1;33m,\u001b[0m \u001b[0mtb\u001b[0m\u001b[1;33m=\u001b[0m\u001b[1;32mNone\u001b[0m\u001b[1;33m)\u001b[0m\u001b[1;33m:\u001b[0m\u001b[1;33m\u001b[0m\u001b[1;33m\u001b[0m\u001b[0m\n\u001b[0;32m    110\u001b[0m         \u001b[1;32mif\u001b[0m \u001b[0mexc\u001b[0m\u001b[1;33m.\u001b[0m\u001b[0m__traceback__\u001b[0m \u001b[1;32mis\u001b[0m \u001b[1;32mnot\u001b[0m \u001b[0mtb\u001b[0m\u001b[1;33m:\u001b[0m\u001b[1;33m\u001b[0m\u001b[1;33m\u001b[0m\u001b[0m\n\u001b[1;32m--> 111\u001b[1;33m             \u001b[1;32mraise\u001b[0m \u001b[0mexc\u001b[0m\u001b[1;33m.\u001b[0m\u001b[0mwith_traceback\u001b[0m\u001b[1;33m(\u001b[0m\u001b[0mtb\u001b[0m\u001b[1;33m)\u001b[0m\u001b[1;33m\u001b[0m\u001b[1;33m\u001b[0m\u001b[0m\n\u001b[0m\u001b[0;32m    112\u001b[0m         \u001b[1;32mraise\u001b[0m \u001b[0mexc\u001b[0m\u001b[1;33m\u001b[0m\u001b[1;33m\u001b[0m\u001b[0m\n\u001b[0;32m    113\u001b[0m \u001b[1;33m\u001b[0m\u001b[0m\n",
      "\u001b[1;32m~\\Anaconda3\\envs\\dask-tutorial\\lib\\site-packages\\dask\\local.py\u001b[0m in \u001b[0;36mexecute_task\u001b[1;34m()\u001b[0m\n\u001b[0;32m    228\u001b[0m     \u001b[1;32mtry\u001b[0m\u001b[1;33m:\u001b[0m\u001b[1;33m\u001b[0m\u001b[1;33m\u001b[0m\u001b[0m\n\u001b[0;32m    229\u001b[0m         \u001b[0mtask\u001b[0m\u001b[1;33m,\u001b[0m \u001b[0mdata\u001b[0m \u001b[1;33m=\u001b[0m \u001b[0mloads\u001b[0m\u001b[1;33m(\u001b[0m\u001b[0mtask_info\u001b[0m\u001b[1;33m)\u001b[0m\u001b[1;33m\u001b[0m\u001b[1;33m\u001b[0m\u001b[0m\n\u001b[1;32m--> 230\u001b[1;33m         \u001b[0mresult\u001b[0m \u001b[1;33m=\u001b[0m \u001b[0m_execute_task\u001b[0m\u001b[1;33m(\u001b[0m\u001b[0mtask\u001b[0m\u001b[1;33m,\u001b[0m \u001b[0mdata\u001b[0m\u001b[1;33m)\u001b[0m\u001b[1;33m\u001b[0m\u001b[1;33m\u001b[0m\u001b[0m\n\u001b[0m\u001b[0;32m    231\u001b[0m         \u001b[0mid\u001b[0m \u001b[1;33m=\u001b[0m \u001b[0mget_id\u001b[0m\u001b[1;33m(\u001b[0m\u001b[1;33m)\u001b[0m\u001b[1;33m\u001b[0m\u001b[1;33m\u001b[0m\u001b[0m\n\u001b[0;32m    232\u001b[0m         \u001b[0mresult\u001b[0m \u001b[1;33m=\u001b[0m \u001b[0mdumps\u001b[0m\u001b[1;33m(\u001b[0m\u001b[1;33m(\u001b[0m\u001b[0mresult\u001b[0m\u001b[1;33m,\u001b[0m \u001b[0mid\u001b[0m\u001b[1;33m)\u001b[0m\u001b[1;33m)\u001b[0m\u001b[1;33m\u001b[0m\u001b[1;33m\u001b[0m\u001b[0m\n",
      "\u001b[1;32m~\\Anaconda3\\envs\\dask-tutorial\\lib\\site-packages\\dask\\core.py\u001b[0m in \u001b[0;36m_execute_task\u001b[1;34m()\u001b[0m\n\u001b[0;32m    117\u001b[0m         \u001b[0mfunc\u001b[0m\u001b[1;33m,\u001b[0m \u001b[0margs\u001b[0m \u001b[1;33m=\u001b[0m \u001b[0marg\u001b[0m\u001b[1;33m[\u001b[0m\u001b[1;36m0\u001b[0m\u001b[1;33m]\u001b[0m\u001b[1;33m,\u001b[0m \u001b[0marg\u001b[0m\u001b[1;33m[\u001b[0m\u001b[1;36m1\u001b[0m\u001b[1;33m:\u001b[0m\u001b[1;33m]\u001b[0m\u001b[1;33m\u001b[0m\u001b[1;33m\u001b[0m\u001b[0m\n\u001b[0;32m    118\u001b[0m         \u001b[0margs2\u001b[0m \u001b[1;33m=\u001b[0m \u001b[1;33m[\u001b[0m\u001b[0m_execute_task\u001b[0m\u001b[1;33m(\u001b[0m\u001b[0ma\u001b[0m\u001b[1;33m,\u001b[0m \u001b[0mcache\u001b[0m\u001b[1;33m)\u001b[0m \u001b[1;32mfor\u001b[0m \u001b[0ma\u001b[0m \u001b[1;32min\u001b[0m \u001b[0margs\u001b[0m\u001b[1;33m]\u001b[0m\u001b[1;33m\u001b[0m\u001b[1;33m\u001b[0m\u001b[0m\n\u001b[1;32m--> 119\u001b[1;33m         \u001b[1;32mreturn\u001b[0m \u001b[0mfunc\u001b[0m\u001b[1;33m(\u001b[0m\u001b[1;33m*\u001b[0m\u001b[0margs2\u001b[0m\u001b[1;33m)\u001b[0m\u001b[1;33m\u001b[0m\u001b[1;33m\u001b[0m\u001b[0m\n\u001b[0m\u001b[0;32m    120\u001b[0m     \u001b[1;32melif\u001b[0m \u001b[1;32mnot\u001b[0m \u001b[0mishashable\u001b[0m\u001b[1;33m(\u001b[0m\u001b[0marg\u001b[0m\u001b[1;33m)\u001b[0m\u001b[1;33m:\u001b[0m\u001b[1;33m\u001b[0m\u001b[1;33m\u001b[0m\u001b[0m\n\u001b[0;32m    121\u001b[0m         \u001b[1;32mreturn\u001b[0m \u001b[0marg\u001b[0m\u001b[1;33m\u001b[0m\u001b[1;33m\u001b[0m\u001b[0m\n",
      "\u001b[1;32m~\\Anaconda3\\envs\\dask-tutorial\\lib\\site-packages\\dask\\bag\\core.py\u001b[0m in \u001b[0;36msafe_take\u001b[1;34m()\u001b[0m\n\u001b[0;32m   2138\u001b[0m \u001b[1;33m\u001b[0m\u001b[0m\n\u001b[0;32m   2139\u001b[0m \u001b[1;32mdef\u001b[0m \u001b[0msafe_take\u001b[0m\u001b[1;33m(\u001b[0m\u001b[0mn\u001b[0m\u001b[1;33m,\u001b[0m \u001b[0mb\u001b[0m\u001b[1;33m,\u001b[0m \u001b[0mwarn\u001b[0m\u001b[1;33m=\u001b[0m\u001b[1;32mTrue\u001b[0m\u001b[1;33m)\u001b[0m\u001b[1;33m:\u001b[0m\u001b[1;33m\u001b[0m\u001b[1;33m\u001b[0m\u001b[0m\n\u001b[1;32m-> 2140\u001b[1;33m     \u001b[0mr\u001b[0m \u001b[1;33m=\u001b[0m \u001b[0mlist\u001b[0m\u001b[1;33m(\u001b[0m\u001b[0mtake\u001b[0m\u001b[1;33m(\u001b[0m\u001b[0mn\u001b[0m\u001b[1;33m,\u001b[0m \u001b[0mb\u001b[0m\u001b[1;33m)\u001b[0m\u001b[1;33m)\u001b[0m\u001b[1;33m\u001b[0m\u001b[1;33m\u001b[0m\u001b[0m\n\u001b[0m\u001b[0;32m   2141\u001b[0m     \u001b[1;32mif\u001b[0m \u001b[0mlen\u001b[0m\u001b[1;33m(\u001b[0m\u001b[0mr\u001b[0m\u001b[1;33m)\u001b[0m \u001b[1;33m!=\u001b[0m \u001b[0mn\u001b[0m \u001b[1;32mand\u001b[0m \u001b[0mwarn\u001b[0m\u001b[1;33m:\u001b[0m\u001b[1;33m\u001b[0m\u001b[1;33m\u001b[0m\u001b[0m\n\u001b[0;32m   2142\u001b[0m         warnings.warn(\"Insufficient elements for `take`. {0} elements \"\n",
      "\u001b[1;32m~\\Anaconda3\\envs\\dask-tutorial\\lib\\site-packages\\dask\\bag\\text.py\u001b[0m in \u001b[0;36mfile_to_blocks\u001b[1;34m()\u001b[0m\n\u001b[0;32m    102\u001b[0m \u001b[1;33m\u001b[0m\u001b[0m\n\u001b[0;32m    103\u001b[0m \u001b[1;32mdef\u001b[0m \u001b[0mfile_to_blocks\u001b[0m\u001b[1;33m(\u001b[0m\u001b[0mlazy_file\u001b[0m\u001b[1;33m)\u001b[0m\u001b[1;33m:\u001b[0m\u001b[1;33m\u001b[0m\u001b[1;33m\u001b[0m\u001b[0m\n\u001b[1;32m--> 104\u001b[1;33m     \u001b[1;32mwith\u001b[0m \u001b[0mlazy_file\u001b[0m \u001b[1;32mas\u001b[0m \u001b[0mf\u001b[0m\u001b[1;33m:\u001b[0m\u001b[1;33m\u001b[0m\u001b[1;33m\u001b[0m\u001b[0m\n\u001b[0m\u001b[0;32m    105\u001b[0m         \u001b[1;32mfor\u001b[0m \u001b[0mline\u001b[0m \u001b[1;32min\u001b[0m \u001b[0mf\u001b[0m\u001b[1;33m:\u001b[0m\u001b[1;33m\u001b[0m\u001b[1;33m\u001b[0m\u001b[0m\n\u001b[0;32m    106\u001b[0m             \u001b[1;32myield\u001b[0m \u001b[0mline\u001b[0m\u001b[1;33m\u001b[0m\u001b[1;33m\u001b[0m\u001b[0m\n",
      "\u001b[1;32m~\\Anaconda3\\envs\\dask-tutorial\\lib\\site-packages\\dask\\bytes\\core.py\u001b[0m in \u001b[0;36m__enter__\u001b[1;34m()\u001b[0m\n\u001b[0;32m    181\u001b[0m         \u001b[0mmode\u001b[0m \u001b[1;33m=\u001b[0m \u001b[0mself\u001b[0m\u001b[1;33m.\u001b[0m\u001b[0mmode\u001b[0m\u001b[1;33m.\u001b[0m\u001b[0mreplace\u001b[0m\u001b[1;33m(\u001b[0m\u001b[1;34m't'\u001b[0m\u001b[1;33m,\u001b[0m \u001b[1;34m''\u001b[0m\u001b[1;33m)\u001b[0m\u001b[1;33m.\u001b[0m\u001b[0mreplace\u001b[0m\u001b[1;33m(\u001b[0m\u001b[1;34m'b'\u001b[0m\u001b[1;33m,\u001b[0m \u001b[1;34m''\u001b[0m\u001b[1;33m)\u001b[0m \u001b[1;33m+\u001b[0m \u001b[1;34m'b'\u001b[0m\u001b[1;33m\u001b[0m\u001b[1;33m\u001b[0m\u001b[0m\n\u001b[0;32m    182\u001b[0m \u001b[1;33m\u001b[0m\u001b[0m\n\u001b[1;32m--> 183\u001b[1;33m         \u001b[0mf\u001b[0m \u001b[1;33m=\u001b[0m \u001b[0mSeekableFile\u001b[0m\u001b[1;33m(\u001b[0m\u001b[0mself\u001b[0m\u001b[1;33m.\u001b[0m\u001b[0mfs\u001b[0m\u001b[1;33m.\u001b[0m\u001b[0mopen\u001b[0m\u001b[1;33m(\u001b[0m\u001b[0mself\u001b[0m\u001b[1;33m.\u001b[0m\u001b[0mpath\u001b[0m\u001b[1;33m,\u001b[0m \u001b[0mmode\u001b[0m\u001b[1;33m=\u001b[0m\u001b[0mmode\u001b[0m\u001b[1;33m)\u001b[0m\u001b[1;33m)\u001b[0m\u001b[1;33m\u001b[0m\u001b[1;33m\u001b[0m\u001b[0m\n\u001b[0m\u001b[0;32m    184\u001b[0m \u001b[1;33m\u001b[0m\u001b[0m\n\u001b[0;32m    185\u001b[0m         \u001b[0mfobjects\u001b[0m \u001b[1;33m=\u001b[0m \u001b[1;33m[\u001b[0m\u001b[0mf\u001b[0m\u001b[1;33m]\u001b[0m\u001b[1;33m\u001b[0m\u001b[1;33m\u001b[0m\u001b[0m\n",
      "\u001b[1;32m~\\Anaconda3\\envs\\dask-tutorial\\lib\\site-packages\\s3fs\\core.py\u001b[0m in \u001b[0;36mopen\u001b[1;34m()\u001b[0m\n\u001b[0;32m    348\u001b[0m         fdesc = S3File(self, path, mode2, block_size=block_size, acl=acl,\n\u001b[0;32m    349\u001b[0m                        \u001b[0mversion_id\u001b[0m\u001b[1;33m=\u001b[0m\u001b[0mversion_id\u001b[0m\u001b[1;33m,\u001b[0m \u001b[0mfill_cache\u001b[0m\u001b[1;33m=\u001b[0m\u001b[0mfill_cache\u001b[0m\u001b[1;33m,\u001b[0m\u001b[1;33m\u001b[0m\u001b[1;33m\u001b[0m\u001b[0m\n\u001b[1;32m--> 350\u001b[1;33m                        s3_additional_kwargs=kw)\n\u001b[0m\u001b[0;32m    351\u001b[0m         \u001b[1;32mif\u001b[0m \u001b[1;34m'b'\u001b[0m \u001b[1;32min\u001b[0m \u001b[0mmode\u001b[0m\u001b[1;33m:\u001b[0m\u001b[1;33m\u001b[0m\u001b[1;33m\u001b[0m\u001b[0m\n\u001b[0;32m    352\u001b[0m             \u001b[1;32mreturn\u001b[0m \u001b[0mfdesc\u001b[0m\u001b[1;33m\u001b[0m\u001b[1;33m\u001b[0m\u001b[0m\n",
      "\u001b[1;32m~\\Anaconda3\\envs\\dask-tutorial\\lib\\site-packages\\s3fs\\core.py\u001b[0m in \u001b[0;36m__init__\u001b[1;34m()\u001b[0m\n\u001b[0;32m   1204\u001b[0m         \u001b[1;32melse\u001b[0m\u001b[1;33m:\u001b[0m\u001b[1;33m\u001b[0m\u001b[1;33m\u001b[0m\u001b[0m\n\u001b[0;32m   1205\u001b[0m             \u001b[1;32mtry\u001b[0m\u001b[1;33m:\u001b[0m\u001b[1;33m\u001b[0m\u001b[1;33m\u001b[0m\u001b[0m\n\u001b[1;32m-> 1206\u001b[1;33m                 \u001b[0minfo\u001b[0m \u001b[1;33m=\u001b[0m \u001b[0mself\u001b[0m\u001b[1;33m.\u001b[0m\u001b[0minfo\u001b[0m\u001b[1;33m(\u001b[0m\u001b[1;33m)\u001b[0m\u001b[1;33m\u001b[0m\u001b[1;33m\u001b[0m\u001b[0m\n\u001b[0m\u001b[0;32m   1207\u001b[0m                 \u001b[0mself\u001b[0m\u001b[1;33m.\u001b[0m\u001b[0msize\u001b[0m \u001b[1;33m=\u001b[0m \u001b[0minfo\u001b[0m\u001b[1;33m[\u001b[0m\u001b[1;34m'Size'\u001b[0m\u001b[1;33m]\u001b[0m\u001b[1;33m\u001b[0m\u001b[1;33m\u001b[0m\u001b[0m\n\u001b[0;32m   1208\u001b[0m                 \u001b[1;32mif\u001b[0m \u001b[0mself\u001b[0m\u001b[1;33m.\u001b[0m\u001b[0ms3\u001b[0m\u001b[1;33m.\u001b[0m\u001b[0mversion_aware\u001b[0m\u001b[1;33m:\u001b[0m\u001b[1;33m\u001b[0m\u001b[1;33m\u001b[0m\u001b[0m\n",
      "\u001b[1;32m~\\Anaconda3\\envs\\dask-tutorial\\lib\\site-packages\\s3fs\\core.py\u001b[0m in \u001b[0;36minfo\u001b[1;34m()\u001b[0m\n\u001b[0;32m   1222\u001b[0m         \u001b[0mrefresh\u001b[0m \u001b[1;33m=\u001b[0m \u001b[0mself\u001b[0m\u001b[1;33m.\u001b[0m\u001b[0ms3\u001b[0m\u001b[1;33m.\u001b[0m\u001b[0mversion_aware\u001b[0m\u001b[1;33m\u001b[0m\u001b[1;33m\u001b[0m\u001b[0m\n\u001b[0;32m   1223\u001b[0m         return self.s3.info(self.path, version_id=self.version_id,\n\u001b[1;32m-> 1224\u001b[1;33m                             refresh=refresh, **kwargs)\n\u001b[0m\u001b[0;32m   1225\u001b[0m \u001b[1;33m\u001b[0m\u001b[0m\n\u001b[0;32m   1226\u001b[0m     \u001b[1;32mdef\u001b[0m \u001b[0mmetadata\u001b[0m\u001b[1;33m(\u001b[0m\u001b[0mself\u001b[0m\u001b[1;33m,\u001b[0m \u001b[0mrefresh\u001b[0m\u001b[1;33m=\u001b[0m\u001b[1;32mFalse\u001b[0m\u001b[1;33m,\u001b[0m \u001b[1;33m**\u001b[0m\u001b[0mkwargs\u001b[0m\u001b[1;33m)\u001b[0m\u001b[1;33m:\u001b[0m\u001b[1;33m\u001b[0m\u001b[1;33m\u001b[0m\u001b[0m\n",
      "\u001b[1;32m~\\Anaconda3\\envs\\dask-tutorial\\lib\\site-packages\\s3fs\\core.py\u001b[0m in \u001b[0;36minfo\u001b[1;34m()\u001b[0m\n\u001b[0;32m    522\u001b[0m             \u001b[0mbucket\u001b[0m\u001b[1;33m,\u001b[0m \u001b[0mkey\u001b[0m \u001b[1;33m=\u001b[0m \u001b[0msplit_path\u001b[0m\u001b[1;33m(\u001b[0m\u001b[0mpath\u001b[0m\u001b[1;33m)\u001b[0m\u001b[1;33m\u001b[0m\u001b[1;33m\u001b[0m\u001b[0m\n\u001b[0;32m    523\u001b[0m             out = self._call_s3(self.s3.head_object, kwargs, Bucket=bucket,\n\u001b[1;32m--> 524\u001b[1;33m                                 Key=key, **self.req_kw)\n\u001b[0m\u001b[0;32m    525\u001b[0m             return {\n\u001b[0;32m    526\u001b[0m                 \u001b[1;34m'ETag'\u001b[0m\u001b[1;33m:\u001b[0m \u001b[0mout\u001b[0m\u001b[1;33m[\u001b[0m\u001b[1;34m'ETag'\u001b[0m\u001b[1;33m]\u001b[0m\u001b[1;33m,\u001b[0m\u001b[1;33m\u001b[0m\u001b[1;33m\u001b[0m\u001b[0m\n",
      "\u001b[1;32m~\\Anaconda3\\envs\\dask-tutorial\\lib\\site-packages\\s3fs\\core.py\u001b[0m in \u001b[0;36m_call_s3\u001b[1;34m()\u001b[0m\n\u001b[0;32m    193\u001b[0m         additional_kwargs = self._get_s3_method_kwargs(method, *akwarglist,\n\u001b[0;32m    194\u001b[0m                                                        **kwargs)\n\u001b[1;32m--> 195\u001b[1;33m         \u001b[1;32mreturn\u001b[0m \u001b[0mmethod\u001b[0m\u001b[1;33m(\u001b[0m\u001b[1;33m**\u001b[0m\u001b[0madditional_kwargs\u001b[0m\u001b[1;33m)\u001b[0m\u001b[1;33m\u001b[0m\u001b[1;33m\u001b[0m\u001b[0m\n\u001b[0m\u001b[0;32m    196\u001b[0m \u001b[1;33m\u001b[0m\u001b[0m\n\u001b[0;32m    197\u001b[0m     \u001b[1;32mdef\u001b[0m \u001b[0m_get_s3_method_kwargs\u001b[0m\u001b[1;33m(\u001b[0m\u001b[0mself\u001b[0m\u001b[1;33m,\u001b[0m \u001b[0mmethod\u001b[0m\u001b[1;33m,\u001b[0m \u001b[1;33m*\u001b[0m\u001b[0makwarglist\u001b[0m\u001b[1;33m,\u001b[0m \u001b[1;33m**\u001b[0m\u001b[0mkwargs\u001b[0m\u001b[1;33m)\u001b[0m\u001b[1;33m:\u001b[0m\u001b[1;33m\u001b[0m\u001b[1;33m\u001b[0m\u001b[0m\n",
      "\u001b[1;32m~\\Anaconda3\\envs\\dask-tutorial\\lib\\site-packages\\botocore\\client.py\u001b[0m in \u001b[0;36m_api_call\u001b[1;34m()\u001b[0m\n\u001b[0;32m    355\u001b[0m                     \"%s() only accepts keyword arguments.\" % py_operation_name)\n\u001b[0;32m    356\u001b[0m             \u001b[1;31m# The \"self\" in this scope is referring to the BaseClient.\u001b[0m\u001b[1;33m\u001b[0m\u001b[1;33m\u001b[0m\u001b[1;33m\u001b[0m\u001b[0m\n\u001b[1;32m--> 357\u001b[1;33m             \u001b[1;32mreturn\u001b[0m \u001b[0mself\u001b[0m\u001b[1;33m.\u001b[0m\u001b[0m_make_api_call\u001b[0m\u001b[1;33m(\u001b[0m\u001b[0moperation_name\u001b[0m\u001b[1;33m,\u001b[0m \u001b[0mkwargs\u001b[0m\u001b[1;33m)\u001b[0m\u001b[1;33m\u001b[0m\u001b[1;33m\u001b[0m\u001b[0m\n\u001b[0m\u001b[0;32m    358\u001b[0m \u001b[1;33m\u001b[0m\u001b[0m\n\u001b[0;32m    359\u001b[0m         \u001b[0m_api_call\u001b[0m\u001b[1;33m.\u001b[0m\u001b[0m__name__\u001b[0m \u001b[1;33m=\u001b[0m \u001b[0mstr\u001b[0m\u001b[1;33m(\u001b[0m\u001b[0mpy_operation_name\u001b[0m\u001b[1;33m)\u001b[0m\u001b[1;33m\u001b[0m\u001b[1;33m\u001b[0m\u001b[0m\n",
      "\u001b[1;32m~\\Anaconda3\\envs\\dask-tutorial\\lib\\site-packages\\botocore\\client.py\u001b[0m in \u001b[0;36m_make_api_call\u001b[1;34m()\u001b[0m\n\u001b[0;32m    646\u001b[0m         \u001b[1;32melse\u001b[0m\u001b[1;33m:\u001b[0m\u001b[1;33m\u001b[0m\u001b[1;33m\u001b[0m\u001b[0m\n\u001b[0;32m    647\u001b[0m             http, parsed_response = self._make_request(\n\u001b[1;32m--> 648\u001b[1;33m                 operation_model, request_dict, request_context)\n\u001b[0m\u001b[0;32m    649\u001b[0m \u001b[1;33m\u001b[0m\u001b[0m\n\u001b[0;32m    650\u001b[0m         self.meta.events.emit(\n",
      "\u001b[1;32m~\\Anaconda3\\envs\\dask-tutorial\\lib\\site-packages\\botocore\\client.py\u001b[0m in \u001b[0;36m_make_request\u001b[1;34m()\u001b[0m\n\u001b[0;32m    665\u001b[0m     \u001b[1;32mdef\u001b[0m \u001b[0m_make_request\u001b[0m\u001b[1;33m(\u001b[0m\u001b[0mself\u001b[0m\u001b[1;33m,\u001b[0m \u001b[0moperation_model\u001b[0m\u001b[1;33m,\u001b[0m \u001b[0mrequest_dict\u001b[0m\u001b[1;33m,\u001b[0m \u001b[0mrequest_context\u001b[0m\u001b[1;33m)\u001b[0m\u001b[1;33m:\u001b[0m\u001b[1;33m\u001b[0m\u001b[1;33m\u001b[0m\u001b[0m\n\u001b[0;32m    666\u001b[0m         \u001b[1;32mtry\u001b[0m\u001b[1;33m:\u001b[0m\u001b[1;33m\u001b[0m\u001b[1;33m\u001b[0m\u001b[0m\n\u001b[1;32m--> 667\u001b[1;33m             \u001b[1;32mreturn\u001b[0m \u001b[0mself\u001b[0m\u001b[1;33m.\u001b[0m\u001b[0m_endpoint\u001b[0m\u001b[1;33m.\u001b[0m\u001b[0mmake_request\u001b[0m\u001b[1;33m(\u001b[0m\u001b[0moperation_model\u001b[0m\u001b[1;33m,\u001b[0m \u001b[0mrequest_dict\u001b[0m\u001b[1;33m)\u001b[0m\u001b[1;33m\u001b[0m\u001b[1;33m\u001b[0m\u001b[0m\n\u001b[0m\u001b[0;32m    668\u001b[0m         \u001b[1;32mexcept\u001b[0m \u001b[0mException\u001b[0m \u001b[1;32mas\u001b[0m \u001b[0me\u001b[0m\u001b[1;33m:\u001b[0m\u001b[1;33m\u001b[0m\u001b[1;33m\u001b[0m\u001b[0m\n\u001b[0;32m    669\u001b[0m             self.meta.events.emit(\n",
      "\u001b[1;32m~\\Anaconda3\\envs\\dask-tutorial\\lib\\site-packages\\botocore\\endpoint.py\u001b[0m in \u001b[0;36mmake_request\u001b[1;34m()\u001b[0m\n\u001b[0;32m    100\u001b[0m         logger.debug(\"Making request for %s with params: %s\",\n\u001b[0;32m    101\u001b[0m                      operation_model, request_dict)\n\u001b[1;32m--> 102\u001b[1;33m         \u001b[1;32mreturn\u001b[0m \u001b[0mself\u001b[0m\u001b[1;33m.\u001b[0m\u001b[0m_send_request\u001b[0m\u001b[1;33m(\u001b[0m\u001b[0mrequest_dict\u001b[0m\u001b[1;33m,\u001b[0m \u001b[0moperation_model\u001b[0m\u001b[1;33m)\u001b[0m\u001b[1;33m\u001b[0m\u001b[1;33m\u001b[0m\u001b[0m\n\u001b[0m\u001b[0;32m    103\u001b[0m \u001b[1;33m\u001b[0m\u001b[0m\n\u001b[0;32m    104\u001b[0m     \u001b[1;32mdef\u001b[0m \u001b[0mcreate_request\u001b[0m\u001b[1;33m(\u001b[0m\u001b[0mself\u001b[0m\u001b[1;33m,\u001b[0m \u001b[0mparams\u001b[0m\u001b[1;33m,\u001b[0m \u001b[0moperation_model\u001b[0m\u001b[1;33m=\u001b[0m\u001b[1;32mNone\u001b[0m\u001b[1;33m)\u001b[0m\u001b[1;33m:\u001b[0m\u001b[1;33m\u001b[0m\u001b[1;33m\u001b[0m\u001b[0m\n",
      "\u001b[1;32m~\\Anaconda3\\envs\\dask-tutorial\\lib\\site-packages\\botocore\\endpoint.py\u001b[0m in \u001b[0;36m_send_request\u001b[1;34m()\u001b[0m\n\u001b[0;32m    130\u001b[0m     \u001b[1;32mdef\u001b[0m \u001b[0m_send_request\u001b[0m\u001b[1;33m(\u001b[0m\u001b[0mself\u001b[0m\u001b[1;33m,\u001b[0m \u001b[0mrequest_dict\u001b[0m\u001b[1;33m,\u001b[0m \u001b[0moperation_model\u001b[0m\u001b[1;33m)\u001b[0m\u001b[1;33m:\u001b[0m\u001b[1;33m\u001b[0m\u001b[1;33m\u001b[0m\u001b[0m\n\u001b[0;32m    131\u001b[0m         \u001b[0mattempts\u001b[0m \u001b[1;33m=\u001b[0m \u001b[1;36m1\u001b[0m\u001b[1;33m\u001b[0m\u001b[1;33m\u001b[0m\u001b[0m\n\u001b[1;32m--> 132\u001b[1;33m         \u001b[0mrequest\u001b[0m \u001b[1;33m=\u001b[0m \u001b[0mself\u001b[0m\u001b[1;33m.\u001b[0m\u001b[0mcreate_request\u001b[0m\u001b[1;33m(\u001b[0m\u001b[0mrequest_dict\u001b[0m\u001b[1;33m,\u001b[0m \u001b[0moperation_model\u001b[0m\u001b[1;33m)\u001b[0m\u001b[1;33m\u001b[0m\u001b[1;33m\u001b[0m\u001b[0m\n\u001b[0m\u001b[0;32m    133\u001b[0m         \u001b[0mcontext\u001b[0m \u001b[1;33m=\u001b[0m \u001b[0mrequest_dict\u001b[0m\u001b[1;33m[\u001b[0m\u001b[1;34m'context'\u001b[0m\u001b[1;33m]\u001b[0m\u001b[1;33m\u001b[0m\u001b[1;33m\u001b[0m\u001b[0m\n\u001b[0;32m    134\u001b[0m         success_response, exception = self._get_response(\n",
      "\u001b[1;32m~\\Anaconda3\\envs\\dask-tutorial\\lib\\site-packages\\botocore\\endpoint.py\u001b[0m in \u001b[0;36mcreate_request\u001b[1;34m()\u001b[0m\n\u001b[0;32m    114\u001b[0m                 op_name=operation_model.name)\n\u001b[0;32m    115\u001b[0m             self._event_emitter.emit(event_name, request=request,\n\u001b[1;32m--> 116\u001b[1;33m                                      operation_name=operation_model.name)\n\u001b[0m\u001b[0;32m    117\u001b[0m         \u001b[0mprepared_request\u001b[0m \u001b[1;33m=\u001b[0m \u001b[0mself\u001b[0m\u001b[1;33m.\u001b[0m\u001b[0mprepare_request\u001b[0m\u001b[1;33m(\u001b[0m\u001b[0mrequest\u001b[0m\u001b[1;33m)\u001b[0m\u001b[1;33m\u001b[0m\u001b[1;33m\u001b[0m\u001b[0m\n\u001b[0;32m    118\u001b[0m         \u001b[1;32mreturn\u001b[0m \u001b[0mprepared_request\u001b[0m\u001b[1;33m\u001b[0m\u001b[1;33m\u001b[0m\u001b[0m\n",
      "\u001b[1;32m~\\Anaconda3\\envs\\dask-tutorial\\lib\\site-packages\\botocore\\hooks.py\u001b[0m in \u001b[0;36memit\u001b[1;34m()\u001b[0m\n\u001b[0;32m    354\u001b[0m     \u001b[1;32mdef\u001b[0m \u001b[0memit\u001b[0m\u001b[1;33m(\u001b[0m\u001b[0mself\u001b[0m\u001b[1;33m,\u001b[0m \u001b[0mevent_name\u001b[0m\u001b[1;33m,\u001b[0m \u001b[1;33m**\u001b[0m\u001b[0mkwargs\u001b[0m\u001b[1;33m)\u001b[0m\u001b[1;33m:\u001b[0m\u001b[1;33m\u001b[0m\u001b[1;33m\u001b[0m\u001b[0m\n\u001b[0;32m    355\u001b[0m         \u001b[0maliased_event_name\u001b[0m \u001b[1;33m=\u001b[0m \u001b[0mself\u001b[0m\u001b[1;33m.\u001b[0m\u001b[0m_alias_event_name\u001b[0m\u001b[1;33m(\u001b[0m\u001b[0mevent_name\u001b[0m\u001b[1;33m)\u001b[0m\u001b[1;33m\u001b[0m\u001b[1;33m\u001b[0m\u001b[0m\n\u001b[1;32m--> 356\u001b[1;33m         \u001b[1;32mreturn\u001b[0m \u001b[0mself\u001b[0m\u001b[1;33m.\u001b[0m\u001b[0m_emitter\u001b[0m\u001b[1;33m.\u001b[0m\u001b[0memit\u001b[0m\u001b[1;33m(\u001b[0m\u001b[0maliased_event_name\u001b[0m\u001b[1;33m,\u001b[0m \u001b[1;33m**\u001b[0m\u001b[0mkwargs\u001b[0m\u001b[1;33m)\u001b[0m\u001b[1;33m\u001b[0m\u001b[1;33m\u001b[0m\u001b[0m\n\u001b[0m\u001b[0;32m    357\u001b[0m \u001b[1;33m\u001b[0m\u001b[0m\n\u001b[0;32m    358\u001b[0m     \u001b[1;32mdef\u001b[0m \u001b[0memit_until_response\u001b[0m\u001b[1;33m(\u001b[0m\u001b[0mself\u001b[0m\u001b[1;33m,\u001b[0m \u001b[0mevent_name\u001b[0m\u001b[1;33m,\u001b[0m \u001b[1;33m**\u001b[0m\u001b[0mkwargs\u001b[0m\u001b[1;33m)\u001b[0m\u001b[1;33m:\u001b[0m\u001b[1;33m\u001b[0m\u001b[1;33m\u001b[0m\u001b[0m\n",
      "\u001b[1;32m~\\Anaconda3\\envs\\dask-tutorial\\lib\\site-packages\\botocore\\hooks.py\u001b[0m in \u001b[0;36memit\u001b[1;34m()\u001b[0m\n\u001b[0;32m    226\u001b[0m                  \u001b[0mhandlers\u001b[0m\u001b[1;33m.\u001b[0m\u001b[1;33m\u001b[0m\u001b[1;33m\u001b[0m\u001b[0m\n\u001b[0;32m    227\u001b[0m         \"\"\"\n\u001b[1;32m--> 228\u001b[1;33m         \u001b[1;32mreturn\u001b[0m \u001b[0mself\u001b[0m\u001b[1;33m.\u001b[0m\u001b[0m_emit\u001b[0m\u001b[1;33m(\u001b[0m\u001b[0mevent_name\u001b[0m\u001b[1;33m,\u001b[0m \u001b[0mkwargs\u001b[0m\u001b[1;33m)\u001b[0m\u001b[1;33m\u001b[0m\u001b[1;33m\u001b[0m\u001b[0m\n\u001b[0m\u001b[0;32m    229\u001b[0m \u001b[1;33m\u001b[0m\u001b[0m\n\u001b[0;32m    230\u001b[0m     \u001b[1;32mdef\u001b[0m \u001b[0memit_until_response\u001b[0m\u001b[1;33m(\u001b[0m\u001b[0mself\u001b[0m\u001b[1;33m,\u001b[0m \u001b[0mevent_name\u001b[0m\u001b[1;33m,\u001b[0m \u001b[1;33m**\u001b[0m\u001b[0mkwargs\u001b[0m\u001b[1;33m)\u001b[0m\u001b[1;33m:\u001b[0m\u001b[1;33m\u001b[0m\u001b[1;33m\u001b[0m\u001b[0m\n",
      "\u001b[1;32m~\\Anaconda3\\envs\\dask-tutorial\\lib\\site-packages\\botocore\\hooks.py\u001b[0m in \u001b[0;36m_emit\u001b[1;34m()\u001b[0m\n\u001b[0;32m    209\u001b[0m         \u001b[1;32mfor\u001b[0m \u001b[0mhandler\u001b[0m \u001b[1;32min\u001b[0m \u001b[0mhandlers_to_call\u001b[0m\u001b[1;33m:\u001b[0m\u001b[1;33m\u001b[0m\u001b[1;33m\u001b[0m\u001b[0m\n\u001b[0;32m    210\u001b[0m             \u001b[0mlogger\u001b[0m\u001b[1;33m.\u001b[0m\u001b[0mdebug\u001b[0m\u001b[1;33m(\u001b[0m\u001b[1;34m'Event %s: calling handler %s'\u001b[0m\u001b[1;33m,\u001b[0m \u001b[0mevent_name\u001b[0m\u001b[1;33m,\u001b[0m \u001b[0mhandler\u001b[0m\u001b[1;33m)\u001b[0m\u001b[1;33m\u001b[0m\u001b[1;33m\u001b[0m\u001b[0m\n\u001b[1;32m--> 211\u001b[1;33m             \u001b[0mresponse\u001b[0m \u001b[1;33m=\u001b[0m \u001b[0mhandler\u001b[0m\u001b[1;33m(\u001b[0m\u001b[1;33m**\u001b[0m\u001b[0mkwargs\u001b[0m\u001b[1;33m)\u001b[0m\u001b[1;33m\u001b[0m\u001b[1;33m\u001b[0m\u001b[0m\n\u001b[0m\u001b[0;32m    212\u001b[0m             \u001b[0mresponses\u001b[0m\u001b[1;33m.\u001b[0m\u001b[0mappend\u001b[0m\u001b[1;33m(\u001b[0m\u001b[1;33m(\u001b[0m\u001b[0mhandler\u001b[0m\u001b[1;33m,\u001b[0m \u001b[0mresponse\u001b[0m\u001b[1;33m)\u001b[0m\u001b[1;33m)\u001b[0m\u001b[1;33m\u001b[0m\u001b[1;33m\u001b[0m\u001b[0m\n\u001b[0;32m    213\u001b[0m             \u001b[1;32mif\u001b[0m \u001b[0mstop_on_response\u001b[0m \u001b[1;32mand\u001b[0m \u001b[0mresponse\u001b[0m \u001b[1;32mis\u001b[0m \u001b[1;32mnot\u001b[0m \u001b[1;32mNone\u001b[0m\u001b[1;33m:\u001b[0m\u001b[1;33m\u001b[0m\u001b[1;33m\u001b[0m\u001b[0m\n",
      "\u001b[1;32m~\\Anaconda3\\envs\\dask-tutorial\\lib\\site-packages\\botocore\\signers.py\u001b[0m in \u001b[0;36mhandler\u001b[1;34m()\u001b[0m\n\u001b[0;32m     88\u001b[0m         \u001b[1;31m# this method is invoked to sign the request.\u001b[0m\u001b[1;33m\u001b[0m\u001b[1;33m\u001b[0m\u001b[1;33m\u001b[0m\u001b[0m\n\u001b[0;32m     89\u001b[0m         \u001b[1;31m# Don't call this method directly.\u001b[0m\u001b[1;33m\u001b[0m\u001b[1;33m\u001b[0m\u001b[1;33m\u001b[0m\u001b[0m\n\u001b[1;32m---> 90\u001b[1;33m         \u001b[1;32mreturn\u001b[0m \u001b[0mself\u001b[0m\u001b[1;33m.\u001b[0m\u001b[0msign\u001b[0m\u001b[1;33m(\u001b[0m\u001b[0moperation_name\u001b[0m\u001b[1;33m,\u001b[0m \u001b[0mrequest\u001b[0m\u001b[1;33m)\u001b[0m\u001b[1;33m\u001b[0m\u001b[1;33m\u001b[0m\u001b[0m\n\u001b[0m\u001b[0;32m     91\u001b[0m \u001b[1;33m\u001b[0m\u001b[0m\n\u001b[0;32m     92\u001b[0m     def sign(self, operation_name, request, region_name=None,\n",
      "\u001b[1;32m~\\Anaconda3\\envs\\dask-tutorial\\lib\\site-packages\\botocore\\signers.py\u001b[0m in \u001b[0;36msign\u001b[1;34m()\u001b[0m\n\u001b[0;32m    155\u001b[0m                     \u001b[1;32mraise\u001b[0m \u001b[0me\u001b[0m\u001b[1;33m\u001b[0m\u001b[1;33m\u001b[0m\u001b[0m\n\u001b[0;32m    156\u001b[0m \u001b[1;33m\u001b[0m\u001b[0m\n\u001b[1;32m--> 157\u001b[1;33m             \u001b[0mauth\u001b[0m\u001b[1;33m.\u001b[0m\u001b[0madd_auth\u001b[0m\u001b[1;33m(\u001b[0m\u001b[0mrequest\u001b[0m\u001b[1;33m)\u001b[0m\u001b[1;33m\u001b[0m\u001b[1;33m\u001b[0m\u001b[0m\n\u001b[0m\u001b[0;32m    158\u001b[0m \u001b[1;33m\u001b[0m\u001b[0m\n\u001b[0;32m    159\u001b[0m     \u001b[1;32mdef\u001b[0m \u001b[0m_choose_signer\u001b[0m\u001b[1;33m(\u001b[0m\u001b[0mself\u001b[0m\u001b[1;33m,\u001b[0m \u001b[0moperation_name\u001b[0m\u001b[1;33m,\u001b[0m \u001b[0msigning_type\u001b[0m\u001b[1;33m,\u001b[0m \u001b[0mcontext\u001b[0m\u001b[1;33m)\u001b[0m\u001b[1;33m:\u001b[0m\u001b[1;33m\u001b[0m\u001b[1;33m\u001b[0m\u001b[0m\n",
      "\u001b[1;32m~\\Anaconda3\\envs\\dask-tutorial\\lib\\site-packages\\botocore\\auth.py\u001b[0m in \u001b[0;36madd_auth\u001b[1;34m()\u001b[0m\n\u001b[0;32m    423\u001b[0m         self._region_name = signing_context.get(\n\u001b[0;32m    424\u001b[0m             'region', self._default_region_name)\n\u001b[1;32m--> 425\u001b[1;33m         \u001b[0msuper\u001b[0m\u001b[1;33m(\u001b[0m\u001b[0mS3SigV4Auth\u001b[0m\u001b[1;33m,\u001b[0m \u001b[0mself\u001b[0m\u001b[1;33m)\u001b[0m\u001b[1;33m.\u001b[0m\u001b[0madd_auth\u001b[0m\u001b[1;33m(\u001b[0m\u001b[0mrequest\u001b[0m\u001b[1;33m)\u001b[0m\u001b[1;33m\u001b[0m\u001b[1;33m\u001b[0m\u001b[0m\n\u001b[0m\u001b[0;32m    426\u001b[0m \u001b[1;33m\u001b[0m\u001b[0m\n\u001b[0;32m    427\u001b[0m     \u001b[1;32mdef\u001b[0m \u001b[0m_modify_request_before_signing\u001b[0m\u001b[1;33m(\u001b[0m\u001b[0mself\u001b[0m\u001b[1;33m,\u001b[0m \u001b[0mrequest\u001b[0m\u001b[1;33m)\u001b[0m\u001b[1;33m:\u001b[0m\u001b[1;33m\u001b[0m\u001b[1;33m\u001b[0m\u001b[0m\n",
      "\u001b[1;32m~\\Anaconda3\\envs\\dask-tutorial\\lib\\site-packages\\botocore\\auth.py\u001b[0m in \u001b[0;36madd_auth\u001b[1;34m()\u001b[0m\n\u001b[0;32m    355\u001b[0m     \u001b[1;32mdef\u001b[0m \u001b[0madd_auth\u001b[0m\u001b[1;33m(\u001b[0m\u001b[0mself\u001b[0m\u001b[1;33m,\u001b[0m \u001b[0mrequest\u001b[0m\u001b[1;33m)\u001b[0m\u001b[1;33m:\u001b[0m\u001b[1;33m\u001b[0m\u001b[1;33m\u001b[0m\u001b[0m\n\u001b[0;32m    356\u001b[0m         \u001b[1;32mif\u001b[0m \u001b[0mself\u001b[0m\u001b[1;33m.\u001b[0m\u001b[0mcredentials\u001b[0m \u001b[1;32mis\u001b[0m \u001b[1;32mNone\u001b[0m\u001b[1;33m:\u001b[0m\u001b[1;33m\u001b[0m\u001b[1;33m\u001b[0m\u001b[0m\n\u001b[1;32m--> 357\u001b[1;33m             \u001b[1;32mraise\u001b[0m \u001b[0mNoCredentialsError\u001b[0m\u001b[1;33m\u001b[0m\u001b[1;33m\u001b[0m\u001b[0m\n\u001b[0m\u001b[0;32m    358\u001b[0m         \u001b[0mdatetime_now\u001b[0m \u001b[1;33m=\u001b[0m \u001b[0mdatetime\u001b[0m\u001b[1;33m.\u001b[0m\u001b[0mdatetime\u001b[0m\u001b[1;33m.\u001b[0m\u001b[0mutcnow\u001b[0m\u001b[1;33m(\u001b[0m\u001b[1;33m)\u001b[0m\u001b[1;33m\u001b[0m\u001b[1;33m\u001b[0m\u001b[0m\n\u001b[0;32m    359\u001b[0m         \u001b[0mrequest\u001b[0m\u001b[1;33m.\u001b[0m\u001b[0mcontext\u001b[0m\u001b[1;33m[\u001b[0m\u001b[1;34m'timestamp'\u001b[0m\u001b[1;33m]\u001b[0m \u001b[1;33m=\u001b[0m \u001b[0mdatetime_now\u001b[0m\u001b[1;33m.\u001b[0m\u001b[0mstrftime\u001b[0m\u001b[1;33m(\u001b[0m\u001b[0mSIGV4_TIMESTAMP\u001b[0m\u001b[1;33m)\u001b[0m\u001b[1;33m\u001b[0m\u001b[1;33m\u001b[0m\u001b[0m\n",
      "\u001b[1;31mNoCredentialsError\u001b[0m: Unable to locate credentials"
     ]
    }
   ],
   "source": [
    "# Requires `s3fs` library\n",
    "# each partition is a remote CSV text file\n",
    "b = db.read_text('s3://dask-data/nyc-taxi/2015/yellow_tripdata_2015-01.csv')\n",
    "b.take(1)"
   ]
  },
  {
   "cell_type": "markdown",
   "metadata": {},
   "source": [
    "## Manipulation"
   ]
  },
  {
   "cell_type": "markdown",
   "metadata": {},
   "source": [
    "`Bag` objects hold the standard functional API found in projects like the Python standard library, `toolz`, or `pyspark`, including `map`, `filter`, `groupby`, etc..\n",
    "\n",
    "Operations on `Bag` objects create new bags.  Call the `.compute()` method to trigger execution, as we saw for `Delayed` objects.  "
   ]
  },
  {
   "cell_type": "code",
   "execution_count": 9,
   "metadata": {},
   "outputs": [
    {
     "data": {
      "text/plain": [
       "dask.bag<lambda-..., npartitions=10>"
      ]
     },
     "execution_count": 9,
     "metadata": {},
     "output_type": "execute_result"
    }
   ],
   "source": [
    "def is_even(n):\n",
    "    return n % 2 == 0\n",
    "\n",
    "b = db.from_sequence([1, 2, 3, 4, 5, 6, 7, 8, 9, 10])\n",
    "c = b.filter(is_even).map(lambda x: x ** 2)\n",
    "c"
   ]
  },
  {
   "cell_type": "code",
   "execution_count": 12,
   "metadata": {},
   "outputs": [
    {
     "name": "stdout",
     "output_type": "stream",
     "text": [
      "Wall time: 395 ms\n"
     ]
    },
    {
     "data": {
      "text/plain": [
       "[4, 16, 36, 64, 100]"
      ]
     },
     "execution_count": 12,
     "metadata": {},
     "output_type": "execute_result"
    }
   ],
   "source": [
    "%%time\n",
    "# blocking form: wait for completion (which is very fast in this case)\n",
    "c.compute()"
   ]
  },
  {
   "cell_type": "markdown",
   "metadata": {},
   "source": [
    "### Example: Accounts JSON data"
   ]
  },
  {
   "cell_type": "markdown",
   "metadata": {},
   "source": [
    "We've created a fake dataset of gzipped JSON data in your data directory.  This is like the example used in the `DataFrame` example we will see later, except that it has bundled up all of the entires for each individual `id` into a single record.  This is similar to data that you might collect off of a document store database or a web API.\n",
    "\n",
    "Each line is a JSON encoded dictionary with the following keys\n",
    "\n",
    "*  id: Unique identifier of the customer\n",
    "*  name: Name of the customer\n",
    "*  transactions: List of `transaction-id`, `amount` pairs, one for each transaction for the customer in that file"
   ]
  },
  {
   "cell_type": "code",
   "execution_count": 13,
   "metadata": {},
   "outputs": [
    {
     "data": {
      "text/plain": [
       "('{\"id\": 0, \"name\": \"Xavier\", \"transactions\": [{\"transaction-id\": 10963, \"amount\": 9559}, {\"transaction-id\": 12412, \"amount\": 9104}, {\"transaction-id\": 14088, \"amount\": 9265}, {\"transaction-id\": 14320, \"amount\": 10200}, {\"transaction-id\": 15154, \"amount\": 9833}, {\"transaction-id\": 19987, \"amount\": 9615}, {\"transaction-id\": 20285, \"amount\": 9945}, {\"transaction-id\": 22727, \"amount\": 9276}, {\"transaction-id\": 29679, \"amount\": 9386}, {\"transaction-id\": 32263, \"amount\": 9215}, {\"transaction-id\": 40963, \"amount\": 9631}, {\"transaction-id\": 45759, \"amount\": 9618}, {\"transaction-id\": 53930, \"amount\": 9140}, {\"transaction-id\": 54775, \"amount\": 9205}, {\"transaction-id\": 58636, \"amount\": 9374}, {\"transaction-id\": 60618, \"amount\": 9477}, {\"transaction-id\": 61700, \"amount\": 9568}, {\"transaction-id\": 62516, \"amount\": 9397}, {\"transaction-id\": 64376, \"amount\": 9321}, {\"transaction-id\": 66431, \"amount\": 9187}, {\"transaction-id\": 70596, \"amount\": 9453}, {\"transaction-id\": 73026, \"amount\": 8913}, {\"transaction-id\": 74652, \"amount\": 9108}, {\"transaction-id\": 80302, \"amount\": 9436}, {\"transaction-id\": 82312, \"amount\": 9691}, {\"transaction-id\": 89175, \"amount\": 9909}, {\"transaction-id\": 92646, \"amount\": 9308}, {\"transaction-id\": 96787, \"amount\": 10252}, {\"transaction-id\": 98665, \"amount\": 9538}]}\\n',\n",
       " '{\"id\": 1, \"name\": \"Kevin\", \"transactions\": [{\"transaction-id\": 867, \"amount\": -173}, {\"transaction-id\": 1007, \"amount\": -80}, {\"transaction-id\": 1959, \"amount\": -72}, {\"transaction-id\": 2231, \"amount\": -120}, {\"transaction-id\": 2726, \"amount\": -87}, {\"transaction-id\": 3064, \"amount\": -171}, {\"transaction-id\": 3617, \"amount\": -149}, {\"transaction-id\": 3894, \"amount\": -71}, {\"transaction-id\": 4329, \"amount\": -35}, {\"transaction-id\": 6009, \"amount\": -141}, {\"transaction-id\": 6111, \"amount\": -184}, {\"transaction-id\": 7721, \"amount\": -78}, {\"transaction-id\": 8446, \"amount\": -67}, {\"transaction-id\": 9788, \"amount\": -96}, {\"transaction-id\": 10367, \"amount\": -23}, {\"transaction-id\": 10445, \"amount\": -112}, {\"transaction-id\": 11149, \"amount\": -92}, {\"transaction-id\": 11192, \"amount\": -100}, {\"transaction-id\": 11201, \"amount\": -110}, {\"transaction-id\": 11226, \"amount\": -172}, {\"transaction-id\": 11797, \"amount\": -109}, {\"transaction-id\": 12585, \"amount\": -111}, {\"transaction-id\": 13272, \"amount\": -37}, {\"transaction-id\": 14955, \"amount\": -91}, {\"transaction-id\": 15791, \"amount\": -188}, {\"transaction-id\": 16263, \"amount\": -145}, {\"transaction-id\": 16272, \"amount\": -68}, {\"transaction-id\": 16874, \"amount\": -63}, {\"transaction-id\": 17361, \"amount\": -140}, {\"transaction-id\": 17842, \"amount\": -52}, {\"transaction-id\": 17902, \"amount\": -124}, {\"transaction-id\": 18009, \"amount\": -78}, {\"transaction-id\": 19642, \"amount\": -27}, {\"transaction-id\": 20805, \"amount\": -102}, {\"transaction-id\": 20837, \"amount\": -66}, {\"transaction-id\": 21326, \"amount\": -1}, {\"transaction-id\": 21700, \"amount\": -205}, {\"transaction-id\": 21885, \"amount\": -182}, {\"transaction-id\": 23482, \"amount\": -96}, {\"transaction-id\": 24187, \"amount\": -131}, {\"transaction-id\": 24603, \"amount\": -77}, {\"transaction-id\": 25280, \"amount\": -127}, {\"transaction-id\": 25608, \"amount\": -124}, {\"transaction-id\": 25667, \"amount\": -205}, {\"transaction-id\": 26123, \"amount\": -16}, {\"transaction-id\": 26445, \"amount\": -66}, {\"transaction-id\": 29315, \"amount\": -170}, {\"transaction-id\": 30583, \"amount\": -152}, {\"transaction-id\": 30628, \"amount\": -171}, {\"transaction-id\": 30775, \"amount\": -16}, {\"transaction-id\": 31293, \"amount\": -82}, {\"transaction-id\": 31558, \"amount\": -48}, {\"transaction-id\": 33680, \"amount\": -131}, {\"transaction-id\": 33706, \"amount\": -132}, {\"transaction-id\": 33743, \"amount\": -58}, {\"transaction-id\": 35114, \"amount\": -43}, {\"transaction-id\": 35912, \"amount\": -18}, {\"transaction-id\": 36801, \"amount\": -132}, {\"transaction-id\": 38786, \"amount\": -80}, {\"transaction-id\": 39660, \"amount\": -53}, {\"transaction-id\": 40792, \"amount\": -88}, {\"transaction-id\": 41882, \"amount\": -94}, {\"transaction-id\": 42521, \"amount\": -43}, {\"transaction-id\": 43191, \"amount\": -178}, {\"transaction-id\": 44402, \"amount\": -56}, {\"transaction-id\": 45228, \"amount\": -192}, {\"transaction-id\": 45389, \"amount\": -133}, {\"transaction-id\": 45863, \"amount\": -90}, {\"transaction-id\": 45973, \"amount\": -159}, {\"transaction-id\": 46225, \"amount\": -10}, {\"transaction-id\": 47283, \"amount\": -64}, {\"transaction-id\": 48098, \"amount\": -62}, {\"transaction-id\": 49837, \"amount\": -67}, {\"transaction-id\": 49938, \"amount\": -85}, {\"transaction-id\": 50298, \"amount\": -205}, {\"transaction-id\": 50674, \"amount\": -101}, {\"transaction-id\": 50915, \"amount\": -104}, {\"transaction-id\": 51194, \"amount\": -49}, {\"transaction-id\": 51423, \"amount\": -1}, {\"transaction-id\": 51536, \"amount\": -96}, {\"transaction-id\": 51945, \"amount\": -165}, {\"transaction-id\": 52107, \"amount\": -86}, {\"transaction-id\": 54246, \"amount\": -99}, {\"transaction-id\": 54377, \"amount\": -28}, {\"transaction-id\": 54693, \"amount\": -219}, {\"transaction-id\": 55233, \"amount\": -77}, {\"transaction-id\": 55856, \"amount\": -83}, {\"transaction-id\": 56095, \"amount\": -148}, {\"transaction-id\": 57291, \"amount\": -11}, {\"transaction-id\": 58250, \"amount\": -39}, {\"transaction-id\": 58318, \"amount\": -201}, {\"transaction-id\": 58347, \"amount\": -103}, {\"transaction-id\": 58485, \"amount\": -146}, {\"transaction-id\": 59530, \"amount\": -71}, {\"transaction-id\": 59762, \"amount\": -66}, {\"transaction-id\": 61281, \"amount\": -86}, {\"transaction-id\": 61397, \"amount\": -132}, {\"transaction-id\": 62584, \"amount\": -42}, {\"transaction-id\": 63355, \"amount\": -175}, {\"transaction-id\": 63717, \"amount\": -115}, {\"transaction-id\": 64784, \"amount\": -89}, {\"transaction-id\": 65125, \"amount\": -35}, {\"transaction-id\": 65721, \"amount\": -73}, {\"transaction-id\": 65963, \"amount\": -126}, {\"transaction-id\": 66374, \"amount\": -119}, {\"transaction-id\": 67211, \"amount\": -123}, {\"transaction-id\": 68128, \"amount\": -133}, {\"transaction-id\": 69411, \"amount\": -130}, {\"transaction-id\": 69428, \"amount\": -130}, {\"transaction-id\": 70418, \"amount\": -32}, {\"transaction-id\": 70457, \"amount\": -6}, {\"transaction-id\": 71297, \"amount\": -53}, {\"transaction-id\": 71344, \"amount\": -184}, {\"transaction-id\": 71499, \"amount\": -136}, {\"transaction-id\": 71574, \"amount\": -211}, {\"transaction-id\": 72024, \"amount\": -112}, {\"transaction-id\": 74815, \"amount\": -74}, {\"transaction-id\": 75640, \"amount\": -129}, {\"transaction-id\": 75708, \"amount\": -130}, {\"transaction-id\": 76350, \"amount\": -48}, {\"transaction-id\": 77243, \"amount\": -138}, {\"transaction-id\": 77280, \"amount\": -163}, {\"transaction-id\": 77432, \"amount\": -59}, {\"transaction-id\": 77638, \"amount\": -55}, {\"transaction-id\": 77791, \"amount\": -69}, {\"transaction-id\": 78835, \"amount\": -131}, {\"transaction-id\": 79998, \"amount\": -105}, {\"transaction-id\": 80247, \"amount\": -71}, {\"transaction-id\": 80595, \"amount\": -142}, {\"transaction-id\": 80660, \"amount\": -115}, {\"transaction-id\": 81476, \"amount\": -110}, {\"transaction-id\": 82354, \"amount\": -169}, {\"transaction-id\": 83009, \"amount\": -39}, {\"transaction-id\": 83631, \"amount\": -148}, {\"transaction-id\": 84052, \"amount\": -90}, {\"transaction-id\": 84122, \"amount\": -65}, {\"transaction-id\": 84230, \"amount\": -106}, {\"transaction-id\": 84314, \"amount\": -61}, {\"transaction-id\": 84865, \"amount\": -97}, {\"transaction-id\": 85433, \"amount\": -79}, {\"transaction-id\": 86545, \"amount\": -54}, {\"transaction-id\": 86973, \"amount\": -188}, {\"transaction-id\": 87195, \"amount\": -120}, {\"transaction-id\": 87203, \"amount\": -214}, {\"transaction-id\": 87789, \"amount\": -138}, {\"transaction-id\": 88439, \"amount\": -121}, {\"transaction-id\": 88566, \"amount\": -22}, {\"transaction-id\": 89217, \"amount\": -62}, {\"transaction-id\": 89260, \"amount\": -146}, {\"transaction-id\": 89370, \"amount\": -139}, {\"transaction-id\": 89457, \"amount\": 19}, {\"transaction-id\": 90792, \"amount\": -72}, {\"transaction-id\": 90816, \"amount\": -94}, {\"transaction-id\": 91167, \"amount\": -179}, {\"transaction-id\": 91220, \"amount\": -82}, {\"transaction-id\": 92333, \"amount\": -53}, {\"transaction-id\": 93397, \"amount\": -3}, {\"transaction-id\": 93418, \"amount\": -119}, {\"transaction-id\": 93639, \"amount\": -7}, {\"transaction-id\": 94136, \"amount\": -200}, {\"transaction-id\": 94776, \"amount\": -17}, {\"transaction-id\": 95216, \"amount\": -161}, {\"transaction-id\": 95771, \"amount\": -66}, {\"transaction-id\": 95934, \"amount\": -75}, {\"transaction-id\": 96029, \"amount\": -134}, {\"transaction-id\": 96144, \"amount\": -105}, {\"transaction-id\": 96244, \"amount\": -133}, {\"transaction-id\": 97782, \"amount\": -116}, {\"transaction-id\": 97867, \"amount\": -137}, {\"transaction-id\": 98637, \"amount\": -130}, {\"transaction-id\": 99124, \"amount\": -186}, {\"transaction-id\": 99486, \"amount\": -87}, {\"transaction-id\": 99503, \"amount\": -61}, {\"transaction-id\": 99520, \"amount\": -102}]}\\n',\n",
       " '{\"id\": 2, \"name\": \"George\", \"transactions\": [{\"transaction-id\": 778, \"amount\": 515}, {\"transaction-id\": 2242, \"amount\": 612}, {\"transaction-id\": 3018, \"amount\": 607}, {\"transaction-id\": 3963, \"amount\": 606}, {\"transaction-id\": 4040, \"amount\": 566}, {\"transaction-id\": 6697, \"amount\": 709}, {\"transaction-id\": 7247, \"amount\": 518}, {\"transaction-id\": 7361, \"amount\": 546}, {\"transaction-id\": 7981, \"amount\": 514}, {\"transaction-id\": 8588, \"amount\": 610}, {\"transaction-id\": 9411, \"amount\": 560}, {\"transaction-id\": 9703, \"amount\": 573}, {\"transaction-id\": 11041, \"amount\": 473}, {\"transaction-id\": 13823, \"amount\": 500}, {\"transaction-id\": 14273, \"amount\": 537}, {\"transaction-id\": 15289, \"amount\": 513}, {\"transaction-id\": 16429, \"amount\": 533}, {\"transaction-id\": 16430, \"amount\": 487}, {\"transaction-id\": 17191, \"amount\": 630}, {\"transaction-id\": 20424, \"amount\": 561}, {\"transaction-id\": 21228, \"amount\": 483}, {\"transaction-id\": 22233, \"amount\": 526}, {\"transaction-id\": 22663, \"amount\": 558}, {\"transaction-id\": 23882, \"amount\": 533}, {\"transaction-id\": 26376, \"amount\": 598}, {\"transaction-id\": 27305, \"amount\": 540}, {\"transaction-id\": 31208, \"amount\": 603}, {\"transaction-id\": 33738, \"amount\": 541}, {\"transaction-id\": 35085, \"amount\": 523}, {\"transaction-id\": 36790, \"amount\": 450}, {\"transaction-id\": 38520, \"amount\": 530}, {\"transaction-id\": 38846, \"amount\": 539}, {\"transaction-id\": 38958, \"amount\": 483}, {\"transaction-id\": 44207, \"amount\": 598}, {\"transaction-id\": 45797, \"amount\": 620}, {\"transaction-id\": 47324, \"amount\": 619}, {\"transaction-id\": 48473, \"amount\": 439}, {\"transaction-id\": 49742, \"amount\": 487}, {\"transaction-id\": 52053, \"amount\": 575}, {\"transaction-id\": 53279, \"amount\": 611}, {\"transaction-id\": 54134, \"amount\": 533}, {\"transaction-id\": 55384, \"amount\": 490}, {\"transaction-id\": 58088, \"amount\": 518}, {\"transaction-id\": 59510, \"amount\": 537}, {\"transaction-id\": 60511, \"amount\": 490}, {\"transaction-id\": 61283, \"amount\": 556}, {\"transaction-id\": 61400, \"amount\": 488}, {\"transaction-id\": 61587, \"amount\": 624}, {\"transaction-id\": 64872, \"amount\": 528}, {\"transaction-id\": 68372, \"amount\": 568}, {\"transaction-id\": 71006, \"amount\": 598}, {\"transaction-id\": 71144, \"amount\": 624}, {\"transaction-id\": 71392, \"amount\": 537}, {\"transaction-id\": 74415, \"amount\": 578}, {\"transaction-id\": 75998, \"amount\": 526}, {\"transaction-id\": 77297, \"amount\": 523}, {\"transaction-id\": 84415, \"amount\": 659}, {\"transaction-id\": 85247, \"amount\": 563}, {\"transaction-id\": 87056, \"amount\": 610}, {\"transaction-id\": 88177, \"amount\": 591}, {\"transaction-id\": 88603, \"amount\": 533}, {\"transaction-id\": 90087, \"amount\": 489}, {\"transaction-id\": 91388, \"amount\": 609}, {\"transaction-id\": 92087, \"amount\": 513}, {\"transaction-id\": 94697, \"amount\": 587}, {\"transaction-id\": 95951, \"amount\": 540}]}\\n')"
      ]
     },
     "execution_count": 13,
     "metadata": {},
     "output_type": "execute_result"
    }
   ],
   "source": [
    "filename = os.path.join('data', 'accounts.*.json.gz')\n",
    "lines = db.read_text(filename)\n",
    "lines.take(3)"
   ]
  },
  {
   "cell_type": "markdown",
   "metadata": {},
   "source": [
    "Our data comes out of the file as lines of text. Notice that file decompression happened automatically. We can make this data look more reasonable by mapping the `json.loads` function onto our bag."
   ]
  },
  {
   "cell_type": "code",
   "execution_count": 15,
   "metadata": {},
   "outputs": [
    {
     "data": {
      "text/plain": [
       "({'id': 0,\n",
       "  'name': 'Xavier',\n",
       "  'transactions': [{'transaction-id': 10963, 'amount': 9559},\n",
       "   {'transaction-id': 12412, 'amount': 9104},\n",
       "   {'transaction-id': 14088, 'amount': 9265},\n",
       "   {'transaction-id': 14320, 'amount': 10200},\n",
       "   {'transaction-id': 15154, 'amount': 9833},\n",
       "   {'transaction-id': 19987, 'amount': 9615},\n",
       "   {'transaction-id': 20285, 'amount': 9945},\n",
       "   {'transaction-id': 22727, 'amount': 9276},\n",
       "   {'transaction-id': 29679, 'amount': 9386},\n",
       "   {'transaction-id': 32263, 'amount': 9215},\n",
       "   {'transaction-id': 40963, 'amount': 9631},\n",
       "   {'transaction-id': 45759, 'amount': 9618},\n",
       "   {'transaction-id': 53930, 'amount': 9140},\n",
       "   {'transaction-id': 54775, 'amount': 9205},\n",
       "   {'transaction-id': 58636, 'amount': 9374},\n",
       "   {'transaction-id': 60618, 'amount': 9477},\n",
       "   {'transaction-id': 61700, 'amount': 9568},\n",
       "   {'transaction-id': 62516, 'amount': 9397},\n",
       "   {'transaction-id': 64376, 'amount': 9321},\n",
       "   {'transaction-id': 66431, 'amount': 9187},\n",
       "   {'transaction-id': 70596, 'amount': 9453},\n",
       "   {'transaction-id': 73026, 'amount': 8913},\n",
       "   {'transaction-id': 74652, 'amount': 9108},\n",
       "   {'transaction-id': 80302, 'amount': 9436},\n",
       "   {'transaction-id': 82312, 'amount': 9691},\n",
       "   {'transaction-id': 89175, 'amount': 9909},\n",
       "   {'transaction-id': 92646, 'amount': 9308},\n",
       "   {'transaction-id': 96787, 'amount': 10252},\n",
       "   {'transaction-id': 98665, 'amount': 9538}]},\n",
       " {'id': 1,\n",
       "  'name': 'Kevin',\n",
       "  'transactions': [{'transaction-id': 867, 'amount': -173},\n",
       "   {'transaction-id': 1007, 'amount': -80},\n",
       "   {'transaction-id': 1959, 'amount': -72},\n",
       "   {'transaction-id': 2231, 'amount': -120},\n",
       "   {'transaction-id': 2726, 'amount': -87},\n",
       "   {'transaction-id': 3064, 'amount': -171},\n",
       "   {'transaction-id': 3617, 'amount': -149},\n",
       "   {'transaction-id': 3894, 'amount': -71},\n",
       "   {'transaction-id': 4329, 'amount': -35},\n",
       "   {'transaction-id': 6009, 'amount': -141},\n",
       "   {'transaction-id': 6111, 'amount': -184},\n",
       "   {'transaction-id': 7721, 'amount': -78},\n",
       "   {'transaction-id': 8446, 'amount': -67},\n",
       "   {'transaction-id': 9788, 'amount': -96},\n",
       "   {'transaction-id': 10367, 'amount': -23},\n",
       "   {'transaction-id': 10445, 'amount': -112},\n",
       "   {'transaction-id': 11149, 'amount': -92},\n",
       "   {'transaction-id': 11192, 'amount': -100},\n",
       "   {'transaction-id': 11201, 'amount': -110},\n",
       "   {'transaction-id': 11226, 'amount': -172},\n",
       "   {'transaction-id': 11797, 'amount': -109},\n",
       "   {'transaction-id': 12585, 'amount': -111},\n",
       "   {'transaction-id': 13272, 'amount': -37},\n",
       "   {'transaction-id': 14955, 'amount': -91},\n",
       "   {'transaction-id': 15791, 'amount': -188},\n",
       "   {'transaction-id': 16263, 'amount': -145},\n",
       "   {'transaction-id': 16272, 'amount': -68},\n",
       "   {'transaction-id': 16874, 'amount': -63},\n",
       "   {'transaction-id': 17361, 'amount': -140},\n",
       "   {'transaction-id': 17842, 'amount': -52},\n",
       "   {'transaction-id': 17902, 'amount': -124},\n",
       "   {'transaction-id': 18009, 'amount': -78},\n",
       "   {'transaction-id': 19642, 'amount': -27},\n",
       "   {'transaction-id': 20805, 'amount': -102},\n",
       "   {'transaction-id': 20837, 'amount': -66},\n",
       "   {'transaction-id': 21326, 'amount': -1},\n",
       "   {'transaction-id': 21700, 'amount': -205},\n",
       "   {'transaction-id': 21885, 'amount': -182},\n",
       "   {'transaction-id': 23482, 'amount': -96},\n",
       "   {'transaction-id': 24187, 'amount': -131},\n",
       "   {'transaction-id': 24603, 'amount': -77},\n",
       "   {'transaction-id': 25280, 'amount': -127},\n",
       "   {'transaction-id': 25608, 'amount': -124},\n",
       "   {'transaction-id': 25667, 'amount': -205},\n",
       "   {'transaction-id': 26123, 'amount': -16},\n",
       "   {'transaction-id': 26445, 'amount': -66},\n",
       "   {'transaction-id': 29315, 'amount': -170},\n",
       "   {'transaction-id': 30583, 'amount': -152},\n",
       "   {'transaction-id': 30628, 'amount': -171},\n",
       "   {'transaction-id': 30775, 'amount': -16},\n",
       "   {'transaction-id': 31293, 'amount': -82},\n",
       "   {'transaction-id': 31558, 'amount': -48},\n",
       "   {'transaction-id': 33680, 'amount': -131},\n",
       "   {'transaction-id': 33706, 'amount': -132},\n",
       "   {'transaction-id': 33743, 'amount': -58},\n",
       "   {'transaction-id': 35114, 'amount': -43},\n",
       "   {'transaction-id': 35912, 'amount': -18},\n",
       "   {'transaction-id': 36801, 'amount': -132},\n",
       "   {'transaction-id': 38786, 'amount': -80},\n",
       "   {'transaction-id': 39660, 'amount': -53},\n",
       "   {'transaction-id': 40792, 'amount': -88},\n",
       "   {'transaction-id': 41882, 'amount': -94},\n",
       "   {'transaction-id': 42521, 'amount': -43},\n",
       "   {'transaction-id': 43191, 'amount': -178},\n",
       "   {'transaction-id': 44402, 'amount': -56},\n",
       "   {'transaction-id': 45228, 'amount': -192},\n",
       "   {'transaction-id': 45389, 'amount': -133},\n",
       "   {'transaction-id': 45863, 'amount': -90},\n",
       "   {'transaction-id': 45973, 'amount': -159},\n",
       "   {'transaction-id': 46225, 'amount': -10},\n",
       "   {'transaction-id': 47283, 'amount': -64},\n",
       "   {'transaction-id': 48098, 'amount': -62},\n",
       "   {'transaction-id': 49837, 'amount': -67},\n",
       "   {'transaction-id': 49938, 'amount': -85},\n",
       "   {'transaction-id': 50298, 'amount': -205},\n",
       "   {'transaction-id': 50674, 'amount': -101},\n",
       "   {'transaction-id': 50915, 'amount': -104},\n",
       "   {'transaction-id': 51194, 'amount': -49},\n",
       "   {'transaction-id': 51423, 'amount': -1},\n",
       "   {'transaction-id': 51536, 'amount': -96},\n",
       "   {'transaction-id': 51945, 'amount': -165},\n",
       "   {'transaction-id': 52107, 'amount': -86},\n",
       "   {'transaction-id': 54246, 'amount': -99},\n",
       "   {'transaction-id': 54377, 'amount': -28},\n",
       "   {'transaction-id': 54693, 'amount': -219},\n",
       "   {'transaction-id': 55233, 'amount': -77},\n",
       "   {'transaction-id': 55856, 'amount': -83},\n",
       "   {'transaction-id': 56095, 'amount': -148},\n",
       "   {'transaction-id': 57291, 'amount': -11},\n",
       "   {'transaction-id': 58250, 'amount': -39},\n",
       "   {'transaction-id': 58318, 'amount': -201},\n",
       "   {'transaction-id': 58347, 'amount': -103},\n",
       "   {'transaction-id': 58485, 'amount': -146},\n",
       "   {'transaction-id': 59530, 'amount': -71},\n",
       "   {'transaction-id': 59762, 'amount': -66},\n",
       "   {'transaction-id': 61281, 'amount': -86},\n",
       "   {'transaction-id': 61397, 'amount': -132},\n",
       "   {'transaction-id': 62584, 'amount': -42},\n",
       "   {'transaction-id': 63355, 'amount': -175},\n",
       "   {'transaction-id': 63717, 'amount': -115},\n",
       "   {'transaction-id': 64784, 'amount': -89},\n",
       "   {'transaction-id': 65125, 'amount': -35},\n",
       "   {'transaction-id': 65721, 'amount': -73},\n",
       "   {'transaction-id': 65963, 'amount': -126},\n",
       "   {'transaction-id': 66374, 'amount': -119},\n",
       "   {'transaction-id': 67211, 'amount': -123},\n",
       "   {'transaction-id': 68128, 'amount': -133},\n",
       "   {'transaction-id': 69411, 'amount': -130},\n",
       "   {'transaction-id': 69428, 'amount': -130},\n",
       "   {'transaction-id': 70418, 'amount': -32},\n",
       "   {'transaction-id': 70457, 'amount': -6},\n",
       "   {'transaction-id': 71297, 'amount': -53},\n",
       "   {'transaction-id': 71344, 'amount': -184},\n",
       "   {'transaction-id': 71499, 'amount': -136},\n",
       "   {'transaction-id': 71574, 'amount': -211},\n",
       "   {'transaction-id': 72024, 'amount': -112},\n",
       "   {'transaction-id': 74815, 'amount': -74},\n",
       "   {'transaction-id': 75640, 'amount': -129},\n",
       "   {'transaction-id': 75708, 'amount': -130},\n",
       "   {'transaction-id': 76350, 'amount': -48},\n",
       "   {'transaction-id': 77243, 'amount': -138},\n",
       "   {'transaction-id': 77280, 'amount': -163},\n",
       "   {'transaction-id': 77432, 'amount': -59},\n",
       "   {'transaction-id': 77638, 'amount': -55},\n",
       "   {'transaction-id': 77791, 'amount': -69},\n",
       "   {'transaction-id': 78835, 'amount': -131},\n",
       "   {'transaction-id': 79998, 'amount': -105},\n",
       "   {'transaction-id': 80247, 'amount': -71},\n",
       "   {'transaction-id': 80595, 'amount': -142},\n",
       "   {'transaction-id': 80660, 'amount': -115},\n",
       "   {'transaction-id': 81476, 'amount': -110},\n",
       "   {'transaction-id': 82354, 'amount': -169},\n",
       "   {'transaction-id': 83009, 'amount': -39},\n",
       "   {'transaction-id': 83631, 'amount': -148},\n",
       "   {'transaction-id': 84052, 'amount': -90},\n",
       "   {'transaction-id': 84122, 'amount': -65},\n",
       "   {'transaction-id': 84230, 'amount': -106},\n",
       "   {'transaction-id': 84314, 'amount': -61},\n",
       "   {'transaction-id': 84865, 'amount': -97},\n",
       "   {'transaction-id': 85433, 'amount': -79},\n",
       "   {'transaction-id': 86545, 'amount': -54},\n",
       "   {'transaction-id': 86973, 'amount': -188},\n",
       "   {'transaction-id': 87195, 'amount': -120},\n",
       "   {'transaction-id': 87203, 'amount': -214},\n",
       "   {'transaction-id': 87789, 'amount': -138},\n",
       "   {'transaction-id': 88439, 'amount': -121},\n",
       "   {'transaction-id': 88566, 'amount': -22},\n",
       "   {'transaction-id': 89217, 'amount': -62},\n",
       "   {'transaction-id': 89260, 'amount': -146},\n",
       "   {'transaction-id': 89370, 'amount': -139},\n",
       "   {'transaction-id': 89457, 'amount': 19},\n",
       "   {'transaction-id': 90792, 'amount': -72},\n",
       "   {'transaction-id': 90816, 'amount': -94},\n",
       "   {'transaction-id': 91167, 'amount': -179},\n",
       "   {'transaction-id': 91220, 'amount': -82},\n",
       "   {'transaction-id': 92333, 'amount': -53},\n",
       "   {'transaction-id': 93397, 'amount': -3},\n",
       "   {'transaction-id': 93418, 'amount': -119},\n",
       "   {'transaction-id': 93639, 'amount': -7},\n",
       "   {'transaction-id': 94136, 'amount': -200},\n",
       "   {'transaction-id': 94776, 'amount': -17},\n",
       "   {'transaction-id': 95216, 'amount': -161},\n",
       "   {'transaction-id': 95771, 'amount': -66},\n",
       "   {'transaction-id': 95934, 'amount': -75},\n",
       "   {'transaction-id': 96029, 'amount': -134},\n",
       "   {'transaction-id': 96144, 'amount': -105},\n",
       "   {'transaction-id': 96244, 'amount': -133},\n",
       "   {'transaction-id': 97782, 'amount': -116},\n",
       "   {'transaction-id': 97867, 'amount': -137},\n",
       "   {'transaction-id': 98637, 'amount': -130},\n",
       "   {'transaction-id': 99124, 'amount': -186},\n",
       "   {'transaction-id': 99486, 'amount': -87},\n",
       "   {'transaction-id': 99503, 'amount': -61},\n",
       "   {'transaction-id': 99520, 'amount': -102}]},\n",
       " {'id': 2,\n",
       "  'name': 'George',\n",
       "  'transactions': [{'transaction-id': 778, 'amount': 515},\n",
       "   {'transaction-id': 2242, 'amount': 612},\n",
       "   {'transaction-id': 3018, 'amount': 607},\n",
       "   {'transaction-id': 3963, 'amount': 606},\n",
       "   {'transaction-id': 4040, 'amount': 566},\n",
       "   {'transaction-id': 6697, 'amount': 709},\n",
       "   {'transaction-id': 7247, 'amount': 518},\n",
       "   {'transaction-id': 7361, 'amount': 546},\n",
       "   {'transaction-id': 7981, 'amount': 514},\n",
       "   {'transaction-id': 8588, 'amount': 610},\n",
       "   {'transaction-id': 9411, 'amount': 560},\n",
       "   {'transaction-id': 9703, 'amount': 573},\n",
       "   {'transaction-id': 11041, 'amount': 473},\n",
       "   {'transaction-id': 13823, 'amount': 500},\n",
       "   {'transaction-id': 14273, 'amount': 537},\n",
       "   {'transaction-id': 15289, 'amount': 513},\n",
       "   {'transaction-id': 16429, 'amount': 533},\n",
       "   {'transaction-id': 16430, 'amount': 487},\n",
       "   {'transaction-id': 17191, 'amount': 630},\n",
       "   {'transaction-id': 20424, 'amount': 561},\n",
       "   {'transaction-id': 21228, 'amount': 483},\n",
       "   {'transaction-id': 22233, 'amount': 526},\n",
       "   {'transaction-id': 22663, 'amount': 558},\n",
       "   {'transaction-id': 23882, 'amount': 533},\n",
       "   {'transaction-id': 26376, 'amount': 598},\n",
       "   {'transaction-id': 27305, 'amount': 540},\n",
       "   {'transaction-id': 31208, 'amount': 603},\n",
       "   {'transaction-id': 33738, 'amount': 541},\n",
       "   {'transaction-id': 35085, 'amount': 523},\n",
       "   {'transaction-id': 36790, 'amount': 450},\n",
       "   {'transaction-id': 38520, 'amount': 530},\n",
       "   {'transaction-id': 38846, 'amount': 539},\n",
       "   {'transaction-id': 38958, 'amount': 483},\n",
       "   {'transaction-id': 44207, 'amount': 598},\n",
       "   {'transaction-id': 45797, 'amount': 620},\n",
       "   {'transaction-id': 47324, 'amount': 619},\n",
       "   {'transaction-id': 48473, 'amount': 439},\n",
       "   {'transaction-id': 49742, 'amount': 487},\n",
       "   {'transaction-id': 52053, 'amount': 575},\n",
       "   {'transaction-id': 53279, 'amount': 611},\n",
       "   {'transaction-id': 54134, 'amount': 533},\n",
       "   {'transaction-id': 55384, 'amount': 490},\n",
       "   {'transaction-id': 58088, 'amount': 518},\n",
       "   {'transaction-id': 59510, 'amount': 537},\n",
       "   {'transaction-id': 60511, 'amount': 490},\n",
       "   {'transaction-id': 61283, 'amount': 556},\n",
       "   {'transaction-id': 61400, 'amount': 488},\n",
       "   {'transaction-id': 61587, 'amount': 624},\n",
       "   {'transaction-id': 64872, 'amount': 528},\n",
       "   {'transaction-id': 68372, 'amount': 568},\n",
       "   {'transaction-id': 71006, 'amount': 598},\n",
       "   {'transaction-id': 71144, 'amount': 624},\n",
       "   {'transaction-id': 71392, 'amount': 537},\n",
       "   {'transaction-id': 74415, 'amount': 578},\n",
       "   {'transaction-id': 75998, 'amount': 526},\n",
       "   {'transaction-id': 77297, 'amount': 523},\n",
       "   {'transaction-id': 84415, 'amount': 659},\n",
       "   {'transaction-id': 85247, 'amount': 563},\n",
       "   {'transaction-id': 87056, 'amount': 610},\n",
       "   {'transaction-id': 88177, 'amount': 591},\n",
       "   {'transaction-id': 88603, 'amount': 533},\n",
       "   {'transaction-id': 90087, 'amount': 489},\n",
       "   {'transaction-id': 91388, 'amount': 609},\n",
       "   {'transaction-id': 92087, 'amount': 513},\n",
       "   {'transaction-id': 94697, 'amount': 587},\n",
       "   {'transaction-id': 95951, 'amount': 540}]})"
      ]
     },
     "execution_count": 15,
     "metadata": {},
     "output_type": "execute_result"
    }
   ],
   "source": [
    "import json\n",
    "js = lines.map(json.loads)\n",
    "# take: inspect first few elements\n",
    "js.take(3)"
   ]
  },
  {
   "cell_type": "markdown",
   "metadata": {},
   "source": [
    "### Basic Queries"
   ]
  },
  {
   "cell_type": "markdown",
   "metadata": {},
   "source": [
    "Once we parse our JSON data into proper Python objects (`dict`s, `list`s, etc.) we can perform more interesting queries by creating small Python functions to run on our data."
   ]
  },
  {
   "cell_type": "code",
   "execution_count": 16,
   "metadata": {},
   "outputs": [
    {
     "data": {
      "text/plain": [
       "({'id': 48,\n",
       "  'name': 'Alice',\n",
       "  'transactions': [{'transaction-id': 579, 'amount': 399},\n",
       "   {'transaction-id': 760, 'amount': 629},\n",
       "   {'transaction-id': 1581, 'amount': 1060},\n",
       "   {'transaction-id': 1620, 'amount': 934},\n",
       "   {'transaction-id': 2854, 'amount': 675},\n",
       "   {'transaction-id': 3108, 'amount': 662},\n",
       "   {'transaction-id': 3691, 'amount': 746},\n",
       "   {'transaction-id': 3859, 'amount': 829},\n",
       "   {'transaction-id': 5024, 'amount': 788},\n",
       "   {'transaction-id': 5160, 'amount': 679},\n",
       "   {'transaction-id': 5920, 'amount': 716},\n",
       "   {'transaction-id': 6343, 'amount': 874},\n",
       "   {'transaction-id': 7900, 'amount': 785},\n",
       "   {'transaction-id': 7930, 'amount': 992},\n",
       "   {'transaction-id': 9419, 'amount': 885},\n",
       "   {'transaction-id': 13982, 'amount': 872},\n",
       "   {'transaction-id': 14783, 'amount': 1012},\n",
       "   {'transaction-id': 15173, 'amount': 486},\n",
       "   {'transaction-id': 16483, 'amount': 676},\n",
       "   {'transaction-id': 19166, 'amount': 481},\n",
       "   {'transaction-id': 19525, 'amount': 891},\n",
       "   {'transaction-id': 19539, 'amount': 592},\n",
       "   {'transaction-id': 19628, 'amount': 906},\n",
       "   {'transaction-id': 21246, 'amount': 729},\n",
       "   {'transaction-id': 21534, 'amount': 871},\n",
       "   {'transaction-id': 21647, 'amount': 644},\n",
       "   {'transaction-id': 22571, 'amount': 735},\n",
       "   {'transaction-id': 23074, 'amount': 732},\n",
       "   {'transaction-id': 23263, 'amount': 1117},\n",
       "   {'transaction-id': 24865, 'amount': 647},\n",
       "   {'transaction-id': 25259, 'amount': 765},\n",
       "   {'transaction-id': 25261, 'amount': 827},\n",
       "   {'transaction-id': 25281, 'amount': 976},\n",
       "   {'transaction-id': 25711, 'amount': 868},\n",
       "   {'transaction-id': 25747, 'amount': 833},\n",
       "   {'transaction-id': 26192, 'amount': 1049},\n",
       "   {'transaction-id': 26403, 'amount': 772},\n",
       "   {'transaction-id': 27736, 'amount': 498},\n",
       "   {'transaction-id': 28607, 'amount': 513},\n",
       "   {'transaction-id': 32535, 'amount': 774},\n",
       "   {'transaction-id': 33391, 'amount': 634},\n",
       "   {'transaction-id': 34195, 'amount': 386},\n",
       "   {'transaction-id': 34310, 'amount': 722},\n",
       "   {'transaction-id': 34492, 'amount': 917},\n",
       "   {'transaction-id': 34953, 'amount': 578},\n",
       "   {'transaction-id': 35233, 'amount': 506},\n",
       "   {'transaction-id': 35326, 'amount': 1178},\n",
       "   {'transaction-id': 35719, 'amount': 667},\n",
       "   {'transaction-id': 36122, 'amount': 693},\n",
       "   {'transaction-id': 37121, 'amount': 642},\n",
       "   {'transaction-id': 37124, 'amount': 898},\n",
       "   {'transaction-id': 37183, 'amount': 686},\n",
       "   {'transaction-id': 38936, 'amount': 987},\n",
       "   {'transaction-id': 39041, 'amount': 559},\n",
       "   {'transaction-id': 39305, 'amount': 414},\n",
       "   {'transaction-id': 39376, 'amount': 783},\n",
       "   {'transaction-id': 39739, 'amount': 484},\n",
       "   {'transaction-id': 39947, 'amount': 651},\n",
       "   {'transaction-id': 40525, 'amount': 761},\n",
       "   {'transaction-id': 40908, 'amount': 510},\n",
       "   {'transaction-id': 42518, 'amount': 755},\n",
       "   {'transaction-id': 42778, 'amount': 771},\n",
       "   {'transaction-id': 43474, 'amount': 784},\n",
       "   {'transaction-id': 43649, 'amount': 630},\n",
       "   {'transaction-id': 43757, 'amount': 602},\n",
       "   {'transaction-id': 43953, 'amount': 647},\n",
       "   {'transaction-id': 43967, 'amount': 739},\n",
       "   {'transaction-id': 44318, 'amount': 815},\n",
       "   {'transaction-id': 44388, 'amount': 899},\n",
       "   {'transaction-id': 44408, 'amount': 692},\n",
       "   {'transaction-id': 44484, 'amount': 556},\n",
       "   {'transaction-id': 46119, 'amount': 695},\n",
       "   {'transaction-id': 46429, 'amount': 814},\n",
       "   {'transaction-id': 47139, 'amount': 325},\n",
       "   {'transaction-id': 47449, 'amount': 828},\n",
       "   {'transaction-id': 50335, 'amount': 799},\n",
       "   {'transaction-id': 51293, 'amount': 293},\n",
       "   {'transaction-id': 51758, 'amount': 759},\n",
       "   {'transaction-id': 51955, 'amount': 804},\n",
       "   {'transaction-id': 53911, 'amount': 860},\n",
       "   {'transaction-id': 55159, 'amount': 772},\n",
       "   {'transaction-id': 55649, 'amount': 468},\n",
       "   {'transaction-id': 56070, 'amount': 682},\n",
       "   {'transaction-id': 57807, 'amount': 802},\n",
       "   {'transaction-id': 58524, 'amount': 869},\n",
       "   {'transaction-id': 58838, 'amount': 537},\n",
       "   {'transaction-id': 58869, 'amount': 772},\n",
       "   {'transaction-id': 59409, 'amount': 791},\n",
       "   {'transaction-id': 60028, 'amount': 587},\n",
       "   {'transaction-id': 60302, 'amount': 719},\n",
       "   {'transaction-id': 61061, 'amount': 478},\n",
       "   {'transaction-id': 61138, 'amount': 909},\n",
       "   {'transaction-id': 62645, 'amount': 1026},\n",
       "   {'transaction-id': 62693, 'amount': 908},\n",
       "   {'transaction-id': 62796, 'amount': 481},\n",
       "   {'transaction-id': 63071, 'amount': 500},\n",
       "   {'transaction-id': 63524, 'amount': 618},\n",
       "   {'transaction-id': 64392, 'amount': 807},\n",
       "   {'transaction-id': 64994, 'amount': 699},\n",
       "   {'transaction-id': 65237, 'amount': 597},\n",
       "   {'transaction-id': 65462, 'amount': 326},\n",
       "   {'transaction-id': 66871, 'amount': 970},\n",
       "   {'transaction-id': 67117, 'amount': 891},\n",
       "   {'transaction-id': 67320, 'amount': 496},\n",
       "   {'transaction-id': 68196, 'amount': 643},\n",
       "   {'transaction-id': 68943, 'amount': 889},\n",
       "   {'transaction-id': 70472, 'amount': 623},\n",
       "   {'transaction-id': 71026, 'amount': 679},\n",
       "   {'transaction-id': 72593, 'amount': 734},\n",
       "   {'transaction-id': 72640, 'amount': 522},\n",
       "   {'transaction-id': 73490, 'amount': 743},\n",
       "   {'transaction-id': 73745, 'amount': 1077},\n",
       "   {'transaction-id': 74725, 'amount': 902},\n",
       "   {'transaction-id': 75883, 'amount': 618},\n",
       "   {'transaction-id': 76265, 'amount': 473},\n",
       "   {'transaction-id': 78874, 'amount': 681},\n",
       "   {'transaction-id': 79079, 'amount': 970},\n",
       "   {'transaction-id': 79276, 'amount': 826},\n",
       "   {'transaction-id': 79713, 'amount': 849},\n",
       "   {'transaction-id': 80412, 'amount': 1126},\n",
       "   {'transaction-id': 81051, 'amount': 349},\n",
       "   {'transaction-id': 81535, 'amount': 884},\n",
       "   {'transaction-id': 82992, 'amount': 428},\n",
       "   {'transaction-id': 83960, 'amount': 487},\n",
       "   {'transaction-id': 84822, 'amount': 916},\n",
       "   {'transaction-id': 84854, 'amount': 1027},\n",
       "   {'transaction-id': 85063, 'amount': 677},\n",
       "   {'transaction-id': 85331, 'amount': 1066},\n",
       "   {'transaction-id': 85361, 'amount': 841},\n",
       "   {'transaction-id': 85804, 'amount': 897},\n",
       "   {'transaction-id': 85929, 'amount': 605},\n",
       "   {'transaction-id': 87031, 'amount': 1148},\n",
       "   {'transaction-id': 88860, 'amount': 623},\n",
       "   {'transaction-id': 89740, 'amount': 1095},\n",
       "   {'transaction-id': 91975, 'amount': 975},\n",
       "   {'transaction-id': 92313, 'amount': 744},\n",
       "   {'transaction-id': 93950, 'amount': 927},\n",
       "   {'transaction-id': 94130, 'amount': 642},\n",
       "   {'transaction-id': 94462, 'amount': 645},\n",
       "   {'transaction-id': 96024, 'amount': 822},\n",
       "   {'transaction-id': 98124, 'amount': 1014},\n",
       "   {'transaction-id': 98933, 'amount': 698},\n",
       "   {'transaction-id': 99470, 'amount': 890},\n",
       "   {'transaction-id': 99601, 'amount': 711},\n",
       "   {'transaction-id': 99827, 'amount': 911}]},\n",
       " {'id': 64,\n",
       "  'name': 'Alice',\n",
       "  'transactions': [{'transaction-id': 1306, 'amount': 250},\n",
       "   {'transaction-id': 2761, 'amount': 226},\n",
       "   {'transaction-id': 8398, 'amount': 246},\n",
       "   {'transaction-id': 12376, 'amount': 239},\n",
       "   {'transaction-id': 22951, 'amount': 244},\n",
       "   {'transaction-id': 24366, 'amount': 256},\n",
       "   {'transaction-id': 25673, 'amount': 271},\n",
       "   {'transaction-id': 26533, 'amount': 240},\n",
       "   {'transaction-id': 31082, 'amount': 240},\n",
       "   {'transaction-id': 35107, 'amount': 235},\n",
       "   {'transaction-id': 35883, 'amount': 245},\n",
       "   {'transaction-id': 35914, 'amount': 231},\n",
       "   {'transaction-id': 40787, 'amount': 233},\n",
       "   {'transaction-id': 41980, 'amount': 241},\n",
       "   {'transaction-id': 43767, 'amount': 253},\n",
       "   {'transaction-id': 43974, 'amount': 248},\n",
       "   {'transaction-id': 50530, 'amount': 222},\n",
       "   {'transaction-id': 55134, 'amount': 212},\n",
       "   {'transaction-id': 58609, 'amount': 231},\n",
       "   {'transaction-id': 59330, 'amount': 253},\n",
       "   {'transaction-id': 61683, 'amount': 242},\n",
       "   {'transaction-id': 65894, 'amount': 221},\n",
       "   {'transaction-id': 84092, 'amount': 247},\n",
       "   {'transaction-id': 87615, 'amount': 274},\n",
       "   {'transaction-id': 92504, 'amount': 231},\n",
       "   {'transaction-id': 93134, 'amount': 227},\n",
       "   {'transaction-id': 93977, 'amount': 249},\n",
       "   {'transaction-id': 94622, 'amount': 236},\n",
       "   {'transaction-id': 96541, 'amount': 221},\n",
       "   {'transaction-id': 97384, 'amount': 232},\n",
       "   {'transaction-id': 98276, 'amount': 245},\n",
       "   {'transaction-id': 98892, 'amount': 264},\n",
       "   {'transaction-id': 99731, 'amount': 248}]},\n",
       " {'id': 68,\n",
       "  'name': 'Alice',\n",
       "  'transactions': [{'transaction-id': 693, 'amount': -364},\n",
       "   {'transaction-id': 1838, 'amount': -42},\n",
       "   {'transaction-id': 2391, 'amount': -90},\n",
       "   {'transaction-id': 2573, 'amount': -196},\n",
       "   {'transaction-id': 3412, 'amount': -144},\n",
       "   {'transaction-id': 3922, 'amount': -372},\n",
       "   {'transaction-id': 4595, 'amount': -139},\n",
       "   {'transaction-id': 7778, 'amount': -238},\n",
       "   {'transaction-id': 9624, 'amount': -277},\n",
       "   {'transaction-id': 11501, 'amount': -81},\n",
       "   {'transaction-id': 11645, 'amount': -120},\n",
       "   {'transaction-id': 11904, 'amount': -150},\n",
       "   {'transaction-id': 11974, 'amount': -103},\n",
       "   {'transaction-id': 12889, 'amount': -108},\n",
       "   {'transaction-id': 13172, 'amount': -123},\n",
       "   {'transaction-id': 13278, 'amount': -208},\n",
       "   {'transaction-id': 15460, 'amount': -153},\n",
       "   {'transaction-id': 15815, 'amount': -309},\n",
       "   {'transaction-id': 17015, 'amount': -283},\n",
       "   {'transaction-id': 17914, 'amount': -401},\n",
       "   {'transaction-id': 19377, 'amount': -399},\n",
       "   {'transaction-id': 20319, 'amount': -215},\n",
       "   {'transaction-id': 20671, 'amount': -211},\n",
       "   {'transaction-id': 21844, 'amount': -185},\n",
       "   {'transaction-id': 21845, 'amount': -128},\n",
       "   {'transaction-id': 22675, 'amount': -184},\n",
       "   {'transaction-id': 23091, 'amount': 32},\n",
       "   {'transaction-id': 24213, 'amount': -248},\n",
       "   {'transaction-id': 24777, 'amount': -129},\n",
       "   {'transaction-id': 25290, 'amount': -282},\n",
       "   {'transaction-id': 25463, 'amount': -363},\n",
       "   {'transaction-id': 26859, 'amount': -300},\n",
       "   {'transaction-id': 26959, 'amount': -115},\n",
       "   {'transaction-id': 27525, 'amount': -250},\n",
       "   {'transaction-id': 31751, 'amount': 27},\n",
       "   {'transaction-id': 32589, 'amount': -526},\n",
       "   {'transaction-id': 32665, 'amount': -205},\n",
       "   {'transaction-id': 33001, 'amount': -252},\n",
       "   {'transaction-id': 34576, 'amount': 38},\n",
       "   {'transaction-id': 37302, 'amount': -187},\n",
       "   {'transaction-id': 39014, 'amount': -127},\n",
       "   {'transaction-id': 39459, 'amount': -262},\n",
       "   {'transaction-id': 40177, 'amount': -254},\n",
       "   {'transaction-id': 40613, 'amount': -120},\n",
       "   {'transaction-id': 41055, 'amount': -271},\n",
       "   {'transaction-id': 41826, 'amount': -365},\n",
       "   {'transaction-id': 42471, 'amount': -199},\n",
       "   {'transaction-id': 43887, 'amount': -132},\n",
       "   {'transaction-id': 44214, 'amount': -360},\n",
       "   {'transaction-id': 45365, 'amount': -321},\n",
       "   {'transaction-id': 45557, 'amount': -13},\n",
       "   {'transaction-id': 49392, 'amount': -228},\n",
       "   {'transaction-id': 52024, 'amount': -334},\n",
       "   {'transaction-id': 52872, 'amount': -94},\n",
       "   {'transaction-id': 55496, 'amount': -444},\n",
       "   {'transaction-id': 55602, 'amount': -337},\n",
       "   {'transaction-id': 55780, 'amount': -119},\n",
       "   {'transaction-id': 57381, 'amount': -149},\n",
       "   {'transaction-id': 58571, 'amount': -195},\n",
       "   {'transaction-id': 58913, 'amount': -150},\n",
       "   {'transaction-id': 59142, 'amount': -109},\n",
       "   {'transaction-id': 59204, 'amount': -239},\n",
       "   {'transaction-id': 59937, 'amount': -98},\n",
       "   {'transaction-id': 61040, 'amount': -185},\n",
       "   {'transaction-id': 61238, 'amount': -115},\n",
       "   {'transaction-id': 61913, 'amount': -126},\n",
       "   {'transaction-id': 66130, 'amount': -200},\n",
       "   {'transaction-id': 66838, 'amount': -212},\n",
       "   {'transaction-id': 67041, 'amount': -262},\n",
       "   {'transaction-id': 68982, 'amount': -143},\n",
       "   {'transaction-id': 69596, 'amount': -185},\n",
       "   {'transaction-id': 69668, 'amount': -98},\n",
       "   {'transaction-id': 69745, 'amount': -18},\n",
       "   {'transaction-id': 69978, 'amount': -283},\n",
       "   {'transaction-id': 70344, 'amount': -197},\n",
       "   {'transaction-id': 70924, 'amount': -65},\n",
       "   {'transaction-id': 73170, 'amount': -223},\n",
       "   {'transaction-id': 73238, 'amount': -203},\n",
       "   {'transaction-id': 73301, 'amount': -270},\n",
       "   {'transaction-id': 73846, 'amount': -128},\n",
       "   {'transaction-id': 74726, 'amount': -212},\n",
       "   {'transaction-id': 75862, 'amount': -297},\n",
       "   {'transaction-id': 77120, 'amount': -359},\n",
       "   {'transaction-id': 77167, 'amount': -202},\n",
       "   {'transaction-id': 78099, 'amount': -249},\n",
       "   {'transaction-id': 78190, 'amount': -426},\n",
       "   {'transaction-id': 78204, 'amount': -278},\n",
       "   {'transaction-id': 78514, 'amount': -448},\n",
       "   {'transaction-id': 78870, 'amount': -345},\n",
       "   {'transaction-id': 79721, 'amount': -260},\n",
       "   {'transaction-id': 79908, 'amount': -260},\n",
       "   {'transaction-id': 80584, 'amount': -298},\n",
       "   {'transaction-id': 81076, 'amount': -268},\n",
       "   {'transaction-id': 81087, 'amount': -109},\n",
       "   {'transaction-id': 81097, 'amount': -354},\n",
       "   {'transaction-id': 82655, 'amount': -417},\n",
       "   {'transaction-id': 83458, 'amount': -233},\n",
       "   {'transaction-id': 85064, 'amount': -303},\n",
       "   {'transaction-id': 85403, 'amount': -348},\n",
       "   {'transaction-id': 87391, 'amount': -291},\n",
       "   {'transaction-id': 87866, 'amount': -341},\n",
       "   {'transaction-id': 92690, 'amount': -541},\n",
       "   {'transaction-id': 92932, 'amount': -156},\n",
       "   {'transaction-id': 93008, 'amount': -251},\n",
       "   {'transaction-id': 93708, 'amount': -92},\n",
       "   {'transaction-id': 96845, 'amount': -182},\n",
       "   {'transaction-id': 97962, 'amount': -392},\n",
       "   {'transaction-id': 98461, 'amount': -168},\n",
       "   {'transaction-id': 99562, 'amount': -39}]},\n",
       " {'id': 73,\n",
       "  'name': 'Alice',\n",
       "  'transactions': [{'transaction-id': 43556, 'amount': 1478}]},\n",
       " {'id': 88,\n",
       "  'name': 'Alice',\n",
       "  'transactions': [{'transaction-id': 532, 'amount': 555},\n",
       "   {'transaction-id': 3508, 'amount': 614},\n",
       "   {'transaction-id': 4880, 'amount': 608},\n",
       "   {'transaction-id': 6188, 'amount': 555},\n",
       "   {'transaction-id': 8483, 'amount': 657},\n",
       "   {'transaction-id': 14036, 'amount': 588},\n",
       "   {'transaction-id': 15371, 'amount': 595},\n",
       "   {'transaction-id': 16528, 'amount': 614},\n",
       "   {'transaction-id': 17625, 'amount': 561},\n",
       "   {'transaction-id': 18641, 'amount': 639},\n",
       "   {'transaction-id': 19124, 'amount': 598},\n",
       "   {'transaction-id': 22306, 'amount': 527},\n",
       "   {'transaction-id': 25735, 'amount': 585},\n",
       "   {'transaction-id': 27123, 'amount': 503},\n",
       "   {'transaction-id': 35017, 'amount': 529},\n",
       "   {'transaction-id': 35679, 'amount': 495},\n",
       "   {'transaction-id': 39484, 'amount': 586},\n",
       "   {'transaction-id': 40691, 'amount': 594},\n",
       "   {'transaction-id': 44265, 'amount': 582},\n",
       "   {'transaction-id': 47685, 'amount': 563},\n",
       "   {'transaction-id': 48437, 'amount': 536},\n",
       "   {'transaction-id': 53540, 'amount': 570},\n",
       "   {'transaction-id': 57188, 'amount': 516},\n",
       "   {'transaction-id': 59536, 'amount': 576},\n",
       "   {'transaction-id': 60414, 'amount': 530},\n",
       "   {'transaction-id': 62301, 'amount': 522},\n",
       "   {'transaction-id': 62902, 'amount': 470},\n",
       "   {'transaction-id': 67892, 'amount': 521},\n",
       "   {'transaction-id': 68407, 'amount': 577},\n",
       "   {'transaction-id': 69237, 'amount': 590},\n",
       "   {'transaction-id': 75518, 'amount': 557},\n",
       "   {'transaction-id': 76690, 'amount': 560},\n",
       "   {'transaction-id': 77277, 'amount': 545},\n",
       "   {'transaction-id': 78535, 'amount': 594},\n",
       "   {'transaction-id': 82232, 'amount': 555},\n",
       "   {'transaction-id': 82624, 'amount': 583},\n",
       "   {'transaction-id': 97696, 'amount': 549},\n",
       "   {'transaction-id': 98976, 'amount': 481}]})"
      ]
     },
     "execution_count": 16,
     "metadata": {},
     "output_type": "execute_result"
    }
   ],
   "source": [
    "# filter: keep only some elements of the sequence\n",
    "js.filter(lambda record: record['name'] == 'Alice').take(5)"
   ]
  },
  {
   "cell_type": "code",
   "execution_count": 28,
   "metadata": {},
   "outputs": [
    {
     "data": {
      "text/plain": [
       "({'name': 'Alice', 'count': 145},\n",
       " {'name': 'Alice', 'count': 33},\n",
       " {'name': 'Alice', 'count': 109},\n",
       " {'name': 'Alice', 'count': 1},\n",
       " {'name': 'Alice', 'count': 38})"
      ]
     },
     "execution_count": 28,
     "metadata": {},
     "output_type": "execute_result"
    }
   ],
   "source": [
    "def count_transactions(d):\n",
    "    return {'name': d['name'], 'count': len(d['transactions'])}\n",
    "\n",
    "# map: apply a function to each element\n",
    "(js.filter(lambda record: record['name'] == 'Alice')\n",
    "   .map(count_transactions)\n",
    "   .take(5))\n"
   ]
  },
  {
   "cell_type": "code",
   "execution_count": 29,
   "metadata": {},
   "outputs": [
    {
     "data": {
      "text/plain": [
       "(145, 33, 109, 1, 38)"
      ]
     },
     "execution_count": 29,
     "metadata": {},
     "output_type": "execute_result"
    }
   ],
   "source": [
    "# pluck: select a field, as from a dictionary, element[field]\n",
    "(js.filter(lambda record: record['name'] == 'Alice')\n",
    "   .map(count_transactions)\n",
    "   .pluck('count')\n",
    "   .take(5))"
   ]
  },
  {
   "cell_type": "code",
   "execution_count": null,
   "metadata": {},
   "outputs": [],
   "source": [
    "# Average number of transactions for all of the Alice entries\n",
    "(js.filter(lambda record: record['name'] == 'Alice')\n",
    "   .map(count_transactions)\n",
    "   .pluck('count')\n",
    "   .mean()\n",
    "   .compute())"
   ]
  },
  {
   "cell_type": "markdown",
   "metadata": {},
   "source": [
    "### Use `flatten` to de-nest"
   ]
  },
  {
   "cell_type": "markdown",
   "metadata": {},
   "source": [
    "In the example below we see the use of `.flatten()` to flatten results.  We compute the average amount for all transactions for all Alices."
   ]
  },
  {
   "cell_type": "code",
   "execution_count": null,
   "metadata": {},
   "outputs": [],
   "source": [
    "js.filter(lambda record: record['name'] == 'Alice').pluck('transactions').take(3)"
   ]
  },
  {
   "cell_type": "code",
   "execution_count": null,
   "metadata": {},
   "outputs": [],
   "source": [
    "(js.filter(lambda record: record['name'] == 'Alice')\n",
    "   .pluck('transactions')\n",
    "   .flatten()\n",
    "   .take(3))"
   ]
  },
  {
   "cell_type": "code",
   "execution_count": null,
   "metadata": {},
   "outputs": [],
   "source": [
    "(js.filter(lambda record: record['name'] == 'Alice')\n",
    "   .pluck('transactions')\n",
    "   .flatten()\n",
    "   .pluck('amount')\n",
    "   .take(3))"
   ]
  },
  {
   "cell_type": "code",
   "execution_count": null,
   "metadata": {},
   "outputs": [],
   "source": [
    "(js.filter(lambda record: record['name'] == 'Alice')\n",
    "   .pluck('transactions')\n",
    "   .flatten()\n",
    "   .pluck('amount')\n",
    "   .mean()\n",
    "   .compute())"
   ]
  },
  {
   "cell_type": "markdown",
   "metadata": {},
   "source": [
    "### Groupby and Foldby"
   ]
  },
  {
   "cell_type": "markdown",
   "metadata": {},
   "source": [
    "Often we want to group data by some function or key.  We can do this either with the `.groupby` method, which is straightforward but forces a full shuffle of the data (expensive) or with the harder-to-use but faster `.foldby` method, which does a streaming combined groupby and reduction.\n",
    "\n",
    "*  `groupby`:  Shuffles data so that all items with the same key are in the same key-value pair\n",
    "*  `foldby`:  Walks through the data accumulating a result per key\n",
    "\n",
    "*Note: the full groupby is particularly bad. In actual workloads you would do well to use `foldby` or switch to `DataFrame`s if possible.*"
   ]
  },
  {
   "cell_type": "markdown",
   "metadata": {},
   "source": [
    "### `groupby`"
   ]
  },
  {
   "cell_type": "markdown",
   "metadata": {},
   "source": [
    "Groupby collects items in your collection so that all items with the same value under some function are collected together into a key-value pair."
   ]
  },
  {
   "cell_type": "code",
   "execution_count": null,
   "metadata": {},
   "outputs": [],
   "source": [
    "b = db.from_sequence(['Alice', 'Bob', 'Charlie', 'Dan', 'Edith', 'Frank'])\n",
    "b.groupby(len).compute()  # names grouped by length"
   ]
  },
  {
   "cell_type": "code",
   "execution_count": null,
   "metadata": {},
   "outputs": [],
   "source": [
    "b = db.from_sequence(list(range(10)))\n",
    "b.groupby(lambda x: x % 2).compute()"
   ]
  },
  {
   "cell_type": "code",
   "execution_count": null,
   "metadata": {},
   "outputs": [],
   "source": [
    "b.groupby(lambda x: x % 2).starmap(lambda k, v: (k, max(v))).compute()"
   ]
  },
  {
   "cell_type": "markdown",
   "metadata": {},
   "source": [
    "### `foldby`"
   ]
  },
  {
   "cell_type": "markdown",
   "metadata": {},
   "source": [
    "Foldby can be quite odd at first.  It is similar to the following functions from other libraries:\n",
    "\n",
    "*  [`toolz.reduceby`](http://toolz.readthedocs.io/en/latest/streaming-analytics.html#streaming-split-apply-combine)\n",
    "*  [`pyspark.RDD.combineByKey`](http://abshinn.github.io/python/apache-spark/2014/10/11/using-combinebykey-in-apache-spark/)\n",
    "\n",
    "When using `foldby` you provide \n",
    "\n",
    "1.  A key function on which to group elements\n",
    "2.  A binary operator such as you would pass to `reduce` that you use to perform reduction per each group\n",
    "3.  A combine binary operator that can combine the results of two `reduce` calls on different parts of your dataset.\n",
    "\n",
    "Your reduction must be associative.  It will happen in parallel in each of the partitions of your dataset.  Then all of these intermediate results will be combined by the `combine` binary operator."
   ]
  },
  {
   "cell_type": "code",
   "execution_count": null,
   "metadata": {},
   "outputs": [],
   "source": [
    "is_even = lambda x: x % 2\n",
    "b.foldby(is_even, binop=max, combine=max).compute()"
   ]
  },
  {
   "cell_type": "markdown",
   "metadata": {},
   "source": [
    "### Example with account data"
   ]
  },
  {
   "cell_type": "markdown",
   "metadata": {},
   "source": [
    "We find the number of people with the same name."
   ]
  },
  {
   "cell_type": "code",
   "execution_count": null,
   "metadata": {
    "scrolled": true
   },
   "outputs": [],
   "source": [
    "%%time\n",
    "# Warning, this one takes a while...\n",
    "result = js.groupby(lambda item: item['name']).starmap(lambda k, v: (k, len(v))).compute()\n",
    "print(sorted(result))"
   ]
  },
  {
   "cell_type": "code",
   "execution_count": null,
   "metadata": {},
   "outputs": [],
   "source": [
    "%%time\n",
    "# This one is comparatively fast and produces the same result.\n",
    "from operator import add\n",
    "def incr(tot, _):\n",
    "    return tot+1\n",
    "\n",
    "result = js.foldby(key='name', \n",
    "                   binop=incr, \n",
    "                   initial=0, \n",
    "                   combine=add, \n",
    "                   combine_initial=0).compute()\n",
    "print(sorted(result))"
   ]
  },
  {
   "cell_type": "markdown",
   "metadata": {},
   "source": [
    "### Exercise: compute total amount per name"
   ]
  },
  {
   "cell_type": "markdown",
   "metadata": {},
   "source": [
    "We want to groupby (or foldby) the `name` key, then add up the all of the amounts for each name.\n",
    "\n",
    "Steps\n",
    "\n",
    "1.  Create a small function that, given a dictionary like \n",
    "\n",
    "        {'name': 'Alice', 'transactions': [{'amount': 1, 'id': 123}, {'amount': 2, 'id': 456}]}\n",
    "        \n",
    "    produces the sum of the amounts, e.g. `3`\n",
    "    \n",
    "2.  Slightly change the binary operator of the `foldby` example above so that the binary operator doesn't count the number of entries, but instead accumulates the sum of the amounts."
   ]
  },
  {
   "cell_type": "code",
   "execution_count": null,
   "metadata": {},
   "outputs": [],
   "source": [
    "# Your code here..."
   ]
  },
  {
   "cell_type": "markdown",
   "metadata": {},
   "source": [
    "## DataFrames"
   ]
  },
  {
   "cell_type": "markdown",
   "metadata": {},
   "source": [
    "For the same reasons that Pandas is often faster than pure Python, `dask.dataframe` can be faster than `dask.bag`.  We will work more with DataFrames later, but from for the bag point of view, they are frequently the end-point of the \"messy\" part of data ingestion—once the data can be made into a data-frame, then complex split-apply-combine logic will become much more straight-forward and efficient.\n",
    "\n",
    "You can transform a bag with a simple tuple or flat dictionary structure into a `dask.dataframe` with the `to_dataframe` method."
   ]
  },
  {
   "cell_type": "code",
   "execution_count": null,
   "metadata": {},
   "outputs": [],
   "source": [
    "df1 = js.to_dataframe()\n",
    "df1.head()"
   ]
  },
  {
   "cell_type": "markdown",
   "metadata": {},
   "source": [
    "This now looks like a well-defined DataFrame, and we can apply Pandas-like computations to it efficiently."
   ]
  },
  {
   "cell_type": "markdown",
   "metadata": {},
   "source": [
    "Using a Dask DataFrame, how long does it take to do our prior computation of numbers of people with the same name?  It turns out that `dask.dataframe.groupby()` beats `dask.bag.groupby()` more than an order of magnitude; but it still cannot match `dask.bag.foldby()` for this case."
   ]
  },
  {
   "cell_type": "code",
   "execution_count": null,
   "metadata": {},
   "outputs": [],
   "source": [
    "%time df1.groupby('name').id.count().compute().head()"
   ]
  },
  {
   "cell_type": "markdown",
   "metadata": {},
   "source": [
    "### Denormalization"
   ]
  },
  {
   "cell_type": "markdown",
   "metadata": {},
   "source": [
    "This DataFrame format is less-than-optimal because the `transactions` column is filled with nested data so Pandas has to revert to `object` dtype, which is quite slow in Pandas.  Ideally we want to transform to a dataframe only after we have flattened our data so that each record is a single `int`, `string`, `float`, etc.."
   ]
  },
  {
   "cell_type": "code",
   "execution_count": null,
   "metadata": {
    "scrolled": true
   },
   "outputs": [],
   "source": [
    "def denormalize(record):\n",
    "    # returns a list for every nested item, each transaction of each person\n",
    "    return [{'id': record['id'], \n",
    "             'name': record['name'], \n",
    "             'amount': transaction['amount'], \n",
    "             'transaction-id': transaction['transaction-id']}\n",
    "            for transaction in record['transactions']]\n",
    "\n",
    "transactions = js.map(denormalize).flatten()\n",
    "transactions.take(3)"
   ]
  },
  {
   "cell_type": "code",
   "execution_count": null,
   "metadata": {},
   "outputs": [],
   "source": [
    "df = transactions.to_dataframe()\n",
    "df.head()"
   ]
  },
  {
   "cell_type": "code",
   "execution_count": null,
   "metadata": {},
   "outputs": [],
   "source": [
    "%%time\n",
    "# number of transactions per name\n",
    "# note that the time here includes the data load and ingestion\n",
    "df.groupby('name')['transaction-id'].count().compute()"
   ]
  },
  {
   "cell_type": "markdown",
   "metadata": {},
   "source": [
    "## Limitations"
   ]
  },
  {
   "cell_type": "markdown",
   "metadata": {},
   "source": [
    "Bags provide very general computation (any Python function.)  This generality\n",
    "comes at cost.  Bags have the following known limitations\n",
    "\n",
    "1.  Bag operations tend to be slower than array/dataframe computations in the\n",
    "    same way that Python tends to be slower than NumPy/Pandas\n",
    "2.  ``Bag.groupby`` is slow.  You should try to use ``Bag.foldby`` if possible.\n",
    "    Using ``Bag.foldby`` requires more thought. Even better, consider creating\n",
    "    a normalised dataframe."
   ]
  },
  {
   "cell_type": "markdown",
   "metadata": {},
   "source": [
    "### See also\n",
    "\n",
    "\n",
    "*  [Blogpost analyzing github data on EC2](https://www.continuum.io/content/dask-distributed-and-anaconda-cluster)"
   ]
  },
  {
   "cell_type": "code",
   "execution_count": null,
   "metadata": {},
   "outputs": [],
   "source": []
  }
 ],
 "metadata": {
  "anaconda-cloud": {},
  "kernelspec": {
   "display_name": "Python 3",
   "language": "python",
   "name": "python3"
  },
  "language_info": {
   "codemirror_mode": {
    "name": "ipython",
    "version": 3
   },
   "file_extension": ".py",
   "mimetype": "text/x-python",
   "name": "python",
   "nbconvert_exporter": "python",
   "pygments_lexer": "ipython3",
   "version": "3.6.8"
  }
 },
 "nbformat": 4,
 "nbformat_minor": 2
}
